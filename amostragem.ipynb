{
 "cells": [
  {
   "cell_type": "code",
   "execution_count": 33,
   "source": [
    "import csv\r\n",
    "import math\r\n",
    "import matplotlib.pyplot as plt\r\n",
    "from functools import reduce\r\n",
    "import random\r\n"
   ],
   "outputs": [],
   "metadata": {}
  },
  {
   "cell_type": "code",
   "execution_count": 34,
   "source": [
    "with open('dados2.csv', 'r') as dados:\r\n",
    "    leitura = csv.reader(dados, delimiter=';')\r\n",
    "    matriz_dados = [i for i in leitura]\r\n",
    "matriz_dados\r\n"
   ],
   "outputs": [
    {
     "output_type": "execute_result",
     "data": {
      "text/plain": [
       "[['Abaetetuba', '11.44', 'Nordeste Paraense'],\n",
       " ['Abel Figueiredo', '7.58', 'Sudeste Paraense'],\n",
       " ['Acara', '17.36', 'Nordeste Paraense'],\n",
       " ['Afua', '11.85', 'Marajo'],\n",
       " ['agua Azul do Norte', '31.11', 'Sudeste Paraense'],\n",
       " ['Alenquer', '25.13', 'Baixo Amazonas'],\n",
       " ['Almeirim', '25.67', 'Baixo Amazonas'],\n",
       " ['Altamira', '14.36', 'Sudoeste Paraense'],\n",
       " ['Anajas', '14.49', 'Marajo'],\n",
       " ['Ananindeua', '12.56', 'Metropolitana de Belem'],\n",
       " ['Anapu', '10.74', 'Sudoeste Paraense'],\n",
       " ['Augusto Correa', '14.87', 'Nordeste Paraense'],\n",
       " ['Aurora do Para', '4.71', 'Nordeste Paraense'],\n",
       " ['Aveiro', '20.69', 'Sudoeste Paraense'],\n",
       " ['Bagre', '25.55', 'Marajo'],\n",
       " ['Baiao', '27.94', 'Nordeste Paraense'],\n",
       " ['Bannach', '0', 'Sudeste Paraense'],\n",
       " ['Barcarena', '10.03', 'Metropolitana de Belem'],\n",
       " ['Belem', '15.5', 'Metropolitana de Belem'],\n",
       " ['Belterra', '19.29', 'Baixo Amazonas'],\n",
       " ['Benevides', '14.01', 'Metropolitana de Belem'],\n",
       " ['Bom Jesus do Tocantins', '10.27', 'Sudeste Paraense'],\n",
       " ['Bonito', '4.76', 'Nordeste Paraense'],\n",
       " ['Braganca', '8.93', 'Nordeste Paraense'],\n",
       " ['Brasil Novo', '9.23', 'Sudoeste Paraense'],\n",
       " ['Brejo Grande do Araguaia', '10', 'Sudeste Paraense'],\n",
       " ['Breu Branco', '18.3', 'Sudeste Paraense'],\n",
       " ['Breves', '17.17', 'Marajo'],\n",
       " ['Bujaru', '6.48', 'Metropolitana de Belem'],\n",
       " ['Cachoeira do Arari', '23.32', 'Marajo'],\n",
       " ['Cachoeira do Piria', '19.48', 'Nordeste Paraense'],\n",
       " ['Cameta', '18.14', 'Nordeste Paraense'],\n",
       " ['Canaa dos Carajas', '13.63', 'Sudeste Paraense'],\n",
       " ['Capanema', '17', 'Nordeste Paraense'],\n",
       " ['Capitao Poco', '15.86', 'Nordeste Paraense'],\n",
       " ['Castanhal', '10.16', 'Metropolitana de Belem'],\n",
       " ['Chaves', '17.7', 'Marajo'],\n",
       " ['Colares', '12.74', 'Nordeste Paraense'],\n",
       " ['Conceicao do Araguaia', '21.25', 'Sudeste Paraense'],\n",
       " ['Concordia do Para', '16.51', 'Nordeste Paraense'],\n",
       " ['Cumaru do Norte', '10', 'Sudeste Paraense'],\n",
       " ['Curionopolis', '22.44', 'Sudeste Paraense'],\n",
       " ['Curralinho', '24.46', 'Marajo'],\n",
       " ['Curua', '25.21', 'Baixo Amazonas'],\n",
       " ['Curuca', '14.6', 'Nordeste Paraense'],\n",
       " ['Dom Eliseu', '5.03', 'Sudeste Paraense'],\n",
       " ['Eldorado dos Carajas', '20.75', 'Sudeste Paraense'],\n",
       " ['Faro', '24.19', 'Baixo Amazonas'],\n",
       " ['Floresta do Araguaia', '8.72', 'Sudeste Paraense'],\n",
       " ['Garrafao do Norte', '8.23', 'Nordeste Paraense'],\n",
       " ['Goianesia do Para', '17.92', 'Sudeste Paraense'],\n",
       " ['Gurupa', '11.66', 'Marajo'],\n",
       " ['Igarape-Acu', '10.77', 'Nordeste Paraense'],\n",
       " ['Igarape-Miri', '14', 'Nordeste Paraense'],\n",
       " ['Inhangapi', '18.52', 'Metropolitana de Belem'],\n",
       " ['Ipixuna do Para', '14.02', 'Nordeste Paraense'],\n",
       " ['Irituia', '19.74', 'Nordeste Paraense'],\n",
       " ['Itaituba', '17.38', 'Sudoeste Paraense'],\n",
       " ['Itupiranga', '15.38', 'Sudeste Paraense'],\n",
       " ['Jacareacanga', '20.41', 'Sudoeste Paraense'],\n",
       " ['Jacunda', '15.41', 'Sudeste Paraense'],\n",
       " ['Juruti', '27.53', 'Baixo Amazonas'],\n",
       " ['Limoeiro do Ajuru', '19.23', 'Nordeste Paraense'],\n",
       " ['Mae do Rio', '15.96', 'Nordeste Paraense'],\n",
       " ['Magalhaes Barata', '17.09', 'Nordeste Paraense'],\n",
       " ['Maraba', '15.14', 'Sudeste Paraense'],\n",
       " ['Maracana', '25.71', 'Nordeste Paraense'],\n",
       " ['Marapanim', '9.9', 'Nordeste Paraense'],\n",
       " ['Marituba', '13.8', 'Metropolitana de Belem'],\n",
       " ['Medicilandia', '24.49', 'Sudoeste Paraense'],\n",
       " ['Melgaco', '6.36', 'Marajo'],\n",
       " ['Mocajuba', '15.22', 'Nordeste Paraense'],\n",
       " ['Moju', '26.09', 'Nordeste Paraense'],\n",
       " ['Mojui dos campos', '20.9', 'Baixo Amazonas'],\n",
       " ['Monte Alegre', '16.19', 'Baixo Amazonas'],\n",
       " ['Muana', '19.48', 'Marajo'],\n",
       " ['Nova Esperanca do Piria', '11.53', 'Nordeste Paraense'],\n",
       " ['Nova Ipixuna', '0', 'Sudeste Paraense'],\n",
       " ['Nova Timboteua', '7.63', 'Nordeste Paraense'],\n",
       " ['Novo Progresso', '6.84', 'Sudoeste Paraense'],\n",
       " ['Novo Repartimento', '15.08', 'Sudeste Paraense'],\n",
       " ['obidos', '13.79', 'Baixo Amazonas'],\n",
       " ['Oeiras do Para', '25.34', 'Nordeste Paraense'],\n",
       " ['Oriximina', '18.08', 'Baixo Amazonas'],\n",
       " ['Ourem', '6.45', 'Nordeste Paraense'],\n",
       " ['Ourilandia do Norte', '15.56', 'Sudeste Paraense'],\n",
       " ['Pacaja', '18.09', 'Sudoeste Paraense'],\n",
       " ['Palestina do Para', '0', 'Sudeste Paraense'],\n",
       " ['Paragominas', '11.64', 'Sudeste Paraense'],\n",
       " ['Parauapebas', '12.46', 'Sudeste Paraense'],\n",
       " [\"Pau D'Arco\", '25', 'Sudeste Paraense'],\n",
       " ['Peixe-Boi', '10.53', 'Nordeste Paraense'],\n",
       " ['Picarra', '24.24', 'Sudeste Paraense'],\n",
       " ['Placas', '14.18', 'Baixo Amazonas'],\n",
       " ['Ponta de Pedras', '13.77', 'Marajo'],\n",
       " ['Portel', '14.23', 'Marajo'],\n",
       " ['Porto de Moz', '27.34', 'Baixo Amazonas'],\n",
       " ['Prainha', '9.35', 'Baixo Amazonas'],\n",
       " ['Primavera', '5.24', 'Nordeste Paraense'],\n",
       " ['Quatipuru', '6.17', 'Nordeste Paraense'],\n",
       " ['Redencao', '19.12', 'Sudeste Paraense'],\n",
       " ['Rio Maria', '14.23', 'Sudeste Paraense'],\n",
       " ['Rondon do Para', '7.56', 'Sudeste Paraense'],\n",
       " ['Ruropolis', '14.74', 'Sudoeste Paraense'],\n",
       " ['Salinopolis', '8.82', 'Nordeste Paraense'],\n",
       " ['Salvaterra', '17.8', 'Marajo'],\n",
       " ['Santa Barbara do Para', '15.2', 'Metropolitana de Belem'],\n",
       " ['Santa Cruz do Arari', '18.18', 'Marajo'],\n",
       " ['Santa Isabel do Para', '15.08', 'Metropolitana de Belem'],\n",
       " ['Santa Luzia do Para', '0', 'Nordeste Paraense'],\n",
       " ['Santa Maria das Barreiras', '18.6', 'Sudeste Paraense'],\n",
       " ['Santa Maria do Para', '13.19', 'Nordeste Paraense'],\n",
       " ['Santana do Araguaia', '6.64', 'Sudeste Paraense'],\n",
       " ['Santarem', '18.34', 'Baixo Amazonas'],\n",
       " ['Santarem Novo', '21.05', 'Nordeste Paraense'],\n",
       " ['Santo Antonio do Taua', '13.67', 'Metropolitana de Belem'],\n",
       " ['Sao Caetano de Odivelas', '8.93', 'Nordeste Paraense'],\n",
       " ['Sao Domingos do Araguaia', '5.68', 'Sudeste Paraense'],\n",
       " ['Sao Domingos do Capim', '10.75', 'Nordeste Paraense'],\n",
       " ['Sao Felix do Xingu', '24.21', 'Sudeste Paraense'],\n",
       " ['Sao Francisco do Para', '17.02', 'Nordeste Paraense'],\n",
       " ['Sao Geraldo do Araguaia', '9.2', 'Sudeste Paraense'],\n",
       " ['Sao Joao da Ponta', '0', 'Nordeste Paraense'],\n",
       " ['Sao Joao de Pirabas', '19.54', 'Nordeste Paraense'],\n",
       " ['Sao Joao do Araguaia', '10.93', 'Sudeste Paraense'],\n",
       " ['Sao Miguel do Guama', '14.04', 'Nordeste Paraense'],\n",
       " ['Sao Sebastiao da Boa Vista', '15.21', 'Marajo'],\n",
       " ['Sapucaia', '10.75', 'Sudeste Paraense'],\n",
       " ['Senador Jose Porfirio', '13.11', 'Sudoeste Paraense'],\n",
       " ['Soure', '7.77', 'Marajo'],\n",
       " ['Tailandia', '15.14', 'Nordeste Paraense'],\n",
       " ['Terra Alta', '5.49', 'Nordeste Paraense'],\n",
       " ['Terra Santa', '3.22', 'Baixo Amazonas'],\n",
       " ['Tome-Acu', '11.89', 'Nordeste Paraense'],\n",
       " ['Tracuateua', '14.64', 'Nordeste Paraense'],\n",
       " ['Trairao', '18.25', 'Sudoeste Paraense'],\n",
       " ['Tucuma', '17.74', 'Sudeste Paraense'],\n",
       " ['Tucurui', '13.97', 'Sudeste Paraense'],\n",
       " ['Ulianopolis', '15.77', 'Sudeste Paraense'],\n",
       " ['Uruara', '14.05', 'Sudoeste Paraense'],\n",
       " ['Vigia', '12.64', 'Nordeste Paraense'],\n",
       " ['Viseu', '19.4', 'Nordeste Paraense'],\n",
       " ['Vitoria do Xingu', '8.22', 'Sudoeste Paraense'],\n",
       " ['Xinguara', '16.95', 'Sudeste Paraense']]"
      ]
     },
     "metadata": {},
     "execution_count": 34
    }
   ],
   "metadata": {}
  },
  {
   "cell_type": "code",
   "execution_count": 35,
   "source": [
    "numeros = list(map(lambda x:float(x), [valor[1] for valor in matriz_dados]))\r\n",
    "\r\n",
    "#estatistica básicas\r\n",
    "def estatisticas_basicas(matriz_numeros):\r\n",
    "    media = reduce(lambda x, y: x+y, matriz_numeros)/len(matriz_numeros)\r\n",
    "    variancia = reduce(lambda x, y: x+(y-media)**2, matriz_numeros, 0)/len(matriz_numeros)\r\n",
    "    desv_padr = math.sqrt(variancia)\r\n",
    "    cv = desv_padr/media\r\n",
    "    return media, variancia, desv_padr, cv\r\n",
    "\r\n",
    "media_p, variancia_p, desv_padr_p, cv_p = estatisticas_basicas(numeros)\r\n",
    "print(f'A média da taxa de homicídios da população é {media_p:.2f}, a variância é {variancia_p:.2f}, o desvio padrão é {desv_padr_p:.2f} e o cv é igual a {cv_p:.2f}')"
   ],
   "outputs": [
    {
     "output_type": "stream",
     "name": "stdout",
     "text": [
      "A média da taxa de homicídios da população é 14.63, a variância é 40.90, o desvio padrão é 6.40 e o cv é igual a 0.44\n"
     ]
    }
   ],
   "metadata": {}
  },
  {
   "cell_type": "code",
   "execution_count": 36,
   "source": [
    "#criação de funções para calcular valores para classes como amplitude total, numero de classes = k e amplitude da classe = h\r\n",
    "#Juntamente a uma função para separar um dicionário para armazenar as classes e amplitudes com suas respectivas frequencias,\r\n",
    "#Uma lista contendo as amplitudes de classe, e uma lista com os pontos médios de cada classe\r\n",
    "\r\n",
    "def valores_dist_classe(matriz_numeros):\r\n",
    "    at = max(matriz_numeros) - min(matriz_numeros)\r\n",
    "    k = int(round(math.sqrt(len(matriz_numeros))))\r\n",
    "    h = math.ceil(at/k)\r\n",
    "    return k, h\r\n",
    "\r\n",
    "\r\n",
    "def listas_dict_classes(matriz_numeros):\r\n",
    "    classes = {}\r\n",
    "    amplitudes = []\r\n",
    "    ponto_medio = []\r\n",
    "    # recursividade para coletar valores de classe\r\n",
    "    k, h = valores_dist_classe(matriz_numeros)\r\n",
    "    for i in range(k):\r\n",
    "        if len(amplitudes) == 0:\r\n",
    "            amplitudes.append(min(matriz_numeros))\r\n",
    "        else:\r\n",
    "            amplitudes.append(amplitudes[i-1]+h)\r\n",
    "\r\n",
    "    for i in range(len(amplitudes)):\r\n",
    "        if i < k-1:\r\n",
    "            classes[f'{amplitudes[i]}|---{amplitudes[i+1]}'] = len(\r\n",
    "                [x for x in matriz_numeros if x >= amplitudes[i] and x < amplitudes[i+1]])\r\n",
    "            ponto_medio.append((amplitudes[i]+amplitudes[i+1])/2)\r\n",
    "        else:\r\n",
    "            classes[f'{amplitudes[i]}|---{amplitudes[i]+h}'] = len(\r\n",
    "                [x for x in matriz_numeros if x >= amplitudes[i] and x < amplitudes[i]+h])\r\n",
    "            ponto_medio.append(((amplitudes[i]+(amplitudes[i]+h))/2))\r\n",
    "    \r\n",
    "    return classes,  ponto_medio\r\n",
    "\r\n",
    "classes_p, ponto_medio_p = listas_dict_classes(numeros)\r\n",
    "print(classes_p, ponto_medio_p)"
   ],
   "outputs": [
    {
     "output_type": "stream",
     "name": "stdout",
     "text": [
      "{'0.0|---3.0': 5, '3.0|---6.0': 7, '6.0|---9.0': 16, '9.0|---12.0': 21, '12.0|---15.0': 26, '15.0|---18.0': 27, '18.0|---21.0': 21, '21.0|---24.0': 4, '24.0|---27.0': 13, '27.0|---30.0': 3, '30.0|---33.0': 1, '33.0|---36.0': 0} [1.5, 4.5, 7.5, 10.5, 13.5, 16.5, 19.5, 22.5, 25.5, 28.5, 31.5, 34.5]\n"
     ]
    }
   ],
   "metadata": {}
  },
  {
   "cell_type": "code",
   "execution_count": 37,
   "source": [
    "print(f'{\"Classes\":^13} | {\"Fi\":^4}')\r\n",
    "print(f'{\"-\"*14}|{\"-\"*5}')\r\n",
    "for i, j in classes_p.items():\r\n",
    "    print(f'{i:^13} | {j:>4}')\r\n"
   ],
   "outputs": [
    {
     "output_type": "stream",
     "name": "stdout",
     "text": [
      "   Classes    |  Fi \n",
      "--------------|-----\n",
      " 0.0|---3.0   |    5\n",
      " 3.0|---6.0   |    7\n",
      " 6.0|---9.0   |   16\n",
      " 9.0|---12.0  |   21\n",
      "12.0|---15.0  |   26\n",
      "15.0|---18.0  |   27\n",
      "18.0|---21.0  |   21\n",
      "21.0|---24.0  |    4\n",
      "24.0|---27.0  |   13\n",
      "27.0|---30.0  |    3\n",
      "30.0|---33.0  |    1\n",
      "33.0|---36.0  |    0\n"
     ]
    }
   ],
   "metadata": {}
  },
  {
   "cell_type": "code",
   "execution_count": 38,
   "source": [
    "#plotagem do histograma\r\n",
    "plt.bar(ponto_medio_p, [t for t in classes_p.values()], 3, color='#4B6BEA')\r\n",
    "plt.title('Histograma do número de Homicídios do estado do Pará')\r\n",
    "plt.xticks(ponto_medio_p)\r\n",
    "plt.show()\r\n"
   ],
   "outputs": [
    {
     "output_type": "display_data",
     "data": {
      "image/png": "[encoded data removed]",
      "text/plain": [
       "<Figure size 432x288 with 1 Axes>"
      ]
     },
     "metadata": {
      "needs_background": "light"
     }
    }
   ],
   "metadata": {}
  },
  {
   "cell_type": "code",
   "execution_count": 39,
   "source": [
    "#calcular o a quantidade da amostra \"n\"\r\n",
    "n = (math.pow(1.96, 2)*math.pow(variancia_p, 2))/(sum(numeros) *\r\n",
    "                                                0.05+math.pow(1.96, 2)*math.pow(variancia_p, 2)/sum(numeros))\r\n",
    "n = math.ceil(n)\r\n",
    "n\r\n"
   ],
   "outputs": [
    {
     "output_type": "execute_result",
     "data": {
      "text/plain": [
       "60"
      ]
     },
     "metadata": {},
     "execution_count": 39
    }
   ],
   "metadata": {}
  },
  {
   "cell_type": "markdown",
   "source": [
    "# Amostragem Aleatória Simples"
   ],
   "metadata": {}
  },
  {
   "cell_type": "code",
   "execution_count": 40,
   "source": [
    "with open('dados2.csv', 'r') as arquivo:\r\n",
    "    ler = csv.reader(arquivo, delimiter=';')\r\n",
    "    populacao = [entrada for entrada in ler]\r\n",
    "populacao\r\n"
   ],
   "outputs": [
    {
     "output_type": "execute_result",
     "data": {
      "text/plain": [
       "[['Abaetetuba', '11.44', 'Nordeste Paraense'],\n",
       " ['Abel Figueiredo', '7.58', 'Sudeste Paraense'],\n",
       " ['Acara', '17.36', 'Nordeste Paraense'],\n",
       " ['Afua', '11.85', 'Marajo'],\n",
       " ['agua Azul do Norte', '31.11', 'Sudeste Paraense'],\n",
       " ['Alenquer', '25.13', 'Baixo Amazonas'],\n",
       " ['Almeirim', '25.67', 'Baixo Amazonas'],\n",
       " ['Altamira', '14.36', 'Sudoeste Paraense'],\n",
       " ['Anajas', '14.49', 'Marajo'],\n",
       " ['Ananindeua', '12.56', 'Metropolitana de Belem'],\n",
       " ['Anapu', '10.74', 'Sudoeste Paraense'],\n",
       " ['Augusto Correa', '14.87', 'Nordeste Paraense'],\n",
       " ['Aurora do Para', '4.71', 'Nordeste Paraense'],\n",
       " ['Aveiro', '20.69', 'Sudoeste Paraense'],\n",
       " ['Bagre', '25.55', 'Marajo'],\n",
       " ['Baiao', '27.94', 'Nordeste Paraense'],\n",
       " ['Bannach', '0', 'Sudeste Paraense'],\n",
       " ['Barcarena', '10.03', 'Metropolitana de Belem'],\n",
       " ['Belem', '15.5', 'Metropolitana de Belem'],\n",
       " ['Belterra', '19.29', 'Baixo Amazonas'],\n",
       " ['Benevides', '14.01', 'Metropolitana de Belem'],\n",
       " ['Bom Jesus do Tocantins', '10.27', 'Sudeste Paraense'],\n",
       " ['Bonito', '4.76', 'Nordeste Paraense'],\n",
       " ['Braganca', '8.93', 'Nordeste Paraense'],\n",
       " ['Brasil Novo', '9.23', 'Sudoeste Paraense'],\n",
       " ['Brejo Grande do Araguaia', '10', 'Sudeste Paraense'],\n",
       " ['Breu Branco', '18.3', 'Sudeste Paraense'],\n",
       " ['Breves', '17.17', 'Marajo'],\n",
       " ['Bujaru', '6.48', 'Metropolitana de Belem'],\n",
       " ['Cachoeira do Arari', '23.32', 'Marajo'],\n",
       " ['Cachoeira do Piria', '19.48', 'Nordeste Paraense'],\n",
       " ['Cameta', '18.14', 'Nordeste Paraense'],\n",
       " ['Canaa dos Carajas', '13.63', 'Sudeste Paraense'],\n",
       " ['Capanema', '17', 'Nordeste Paraense'],\n",
       " ['Capitao Poco', '15.86', 'Nordeste Paraense'],\n",
       " ['Castanhal', '10.16', 'Metropolitana de Belem'],\n",
       " ['Chaves', '17.7', 'Marajo'],\n",
       " ['Colares', '12.74', 'Nordeste Paraense'],\n",
       " ['Conceicao do Araguaia', '21.25', 'Sudeste Paraense'],\n",
       " ['Concordia do Para', '16.51', 'Nordeste Paraense'],\n",
       " ['Cumaru do Norte', '10', 'Sudeste Paraense'],\n",
       " ['Curionopolis', '22.44', 'Sudeste Paraense'],\n",
       " ['Curralinho', '24.46', 'Marajo'],\n",
       " ['Curua', '25.21', 'Baixo Amazonas'],\n",
       " ['Curuca', '14.6', 'Nordeste Paraense'],\n",
       " ['Dom Eliseu', '5.03', 'Sudeste Paraense'],\n",
       " ['Eldorado dos Carajas', '20.75', 'Sudeste Paraense'],\n",
       " ['Faro', '24.19', 'Baixo Amazonas'],\n",
       " ['Floresta do Araguaia', '8.72', 'Sudeste Paraense'],\n",
       " ['Garrafao do Norte', '8.23', 'Nordeste Paraense'],\n",
       " ['Goianesia do Para', '17.92', 'Sudeste Paraense'],\n",
       " ['Gurupa', '11.66', 'Marajo'],\n",
       " ['Igarape-Acu', '10.77', 'Nordeste Paraense'],\n",
       " ['Igarape-Miri', '14', 'Nordeste Paraense'],\n",
       " ['Inhangapi', '18.52', 'Metropolitana de Belem'],\n",
       " ['Ipixuna do Para', '14.02', 'Nordeste Paraense'],\n",
       " ['Irituia', '19.74', 'Nordeste Paraense'],\n",
       " ['Itaituba', '17.38', 'Sudoeste Paraense'],\n",
       " ['Itupiranga', '15.38', 'Sudeste Paraense'],\n",
       " ['Jacareacanga', '20.41', 'Sudoeste Paraense'],\n",
       " ['Jacunda', '15.41', 'Sudeste Paraense'],\n",
       " ['Juruti', '27.53', 'Baixo Amazonas'],\n",
       " ['Limoeiro do Ajuru', '19.23', 'Nordeste Paraense'],\n",
       " ['Mae do Rio', '15.96', 'Nordeste Paraense'],\n",
       " ['Magalhaes Barata', '17.09', 'Nordeste Paraense'],\n",
       " ['Maraba', '15.14', 'Sudeste Paraense'],\n",
       " ['Maracana', '25.71', 'Nordeste Paraense'],\n",
       " ['Marapanim', '9.9', 'Nordeste Paraense'],\n",
       " ['Marituba', '13.8', 'Metropolitana de Belem'],\n",
       " ['Medicilandia', '24.49', 'Sudoeste Paraense'],\n",
       " ['Melgaco', '6.36', 'Marajo'],\n",
       " ['Mocajuba', '15.22', 'Nordeste Paraense'],\n",
       " ['Moju', '26.09', 'Nordeste Paraense'],\n",
       " ['Mojui dos campos', '20.9', 'Baixo Amazonas'],\n",
       " ['Monte Alegre', '16.19', 'Baixo Amazonas'],\n",
       " ['Muana', '19.48', 'Marajo'],\n",
       " ['Nova Esperanca do Piria', '11.53', 'Nordeste Paraense'],\n",
       " ['Nova Ipixuna', '0', 'Sudeste Paraense'],\n",
       " ['Nova Timboteua', '7.63', 'Nordeste Paraense'],\n",
       " ['Novo Progresso', '6.84', 'Sudoeste Paraense'],\n",
       " ['Novo Repartimento', '15.08', 'Sudeste Paraense'],\n",
       " ['obidos', '13.79', 'Baixo Amazonas'],\n",
       " ['Oeiras do Para', '25.34', 'Nordeste Paraense'],\n",
       " ['Oriximina', '18.08', 'Baixo Amazonas'],\n",
       " ['Ourem', '6.45', 'Nordeste Paraense'],\n",
       " ['Ourilandia do Norte', '15.56', 'Sudeste Paraense'],\n",
       " ['Pacaja', '18.09', 'Sudoeste Paraense'],\n",
       " ['Palestina do Para', '0', 'Sudeste Paraense'],\n",
       " ['Paragominas', '11.64', 'Sudeste Paraense'],\n",
       " ['Parauapebas', '12.46', 'Sudeste Paraense'],\n",
       " [\"Pau D'Arco\", '25', 'Sudeste Paraense'],\n",
       " ['Peixe-Boi', '10.53', 'Nordeste Paraense'],\n",
       " ['Picarra', '24.24', 'Sudeste Paraense'],\n",
       " ['Placas', '14.18', 'Baixo Amazonas'],\n",
       " ['Ponta de Pedras', '13.77', 'Marajo'],\n",
       " ['Portel', '14.23', 'Marajo'],\n",
       " ['Porto de Moz', '27.34', 'Baixo Amazonas'],\n",
       " ['Prainha', '9.35', 'Baixo Amazonas'],\n",
       " ['Primavera', '5.24', 'Nordeste Paraense'],\n",
       " ['Quatipuru', '6.17', 'Nordeste Paraense'],\n",
       " ['Redencao', '19.12', 'Sudeste Paraense'],\n",
       " ['Rio Maria', '14.23', 'Sudeste Paraense'],\n",
       " ['Rondon do Para', '7.56', 'Sudeste Paraense'],\n",
       " ['Ruropolis', '14.74', 'Sudoeste Paraense'],\n",
       " ['Salinopolis', '8.82', 'Nordeste Paraense'],\n",
       " ['Salvaterra', '17.8', 'Marajo'],\n",
       " ['Santa Barbara do Para', '15.2', 'Metropolitana de Belem'],\n",
       " ['Santa Cruz do Arari', '18.18', 'Marajo'],\n",
       " ['Santa Isabel do Para', '15.08', 'Metropolitana de Belem'],\n",
       " ['Santa Luzia do Para', '0', 'Nordeste Paraense'],\n",
       " ['Santa Maria das Barreiras', '18.6', 'Sudeste Paraense'],\n",
       " ['Santa Maria do Para', '13.19', 'Nordeste Paraense'],\n",
       " ['Santana do Araguaia', '6.64', 'Sudeste Paraense'],\n",
       " ['Santarem', '18.34', 'Baixo Amazonas'],\n",
       " ['Santarem Novo', '21.05', 'Nordeste Paraense'],\n",
       " ['Santo Antonio do Taua', '13.67', 'Metropolitana de Belem'],\n",
       " ['Sao Caetano de Odivelas', '8.93', 'Nordeste Paraense'],\n",
       " ['Sao Domingos do Araguaia', '5.68', 'Sudeste Paraense'],\n",
       " ['Sao Domingos do Capim', '10.75', 'Nordeste Paraense'],\n",
       " ['Sao Felix do Xingu', '24.21', 'Sudeste Paraense'],\n",
       " ['Sao Francisco do Para', '17.02', 'Nordeste Paraense'],\n",
       " ['Sao Geraldo do Araguaia', '9.2', 'Sudeste Paraense'],\n",
       " ['Sao Joao da Ponta', '0', 'Nordeste Paraense'],\n",
       " ['Sao Joao de Pirabas', '19.54', 'Nordeste Paraense'],\n",
       " ['Sao Joao do Araguaia', '10.93', 'Sudeste Paraense'],\n",
       " ['Sao Miguel do Guama', '14.04', 'Nordeste Paraense'],\n",
       " ['Sao Sebastiao da Boa Vista', '15.21', 'Marajo'],\n",
       " ['Sapucaia', '10.75', 'Sudeste Paraense'],\n",
       " ['Senador Jose Porfirio', '13.11', 'Sudoeste Paraense'],\n",
       " ['Soure', '7.77', 'Marajo'],\n",
       " ['Tailandia', '15.14', 'Nordeste Paraense'],\n",
       " ['Terra Alta', '5.49', 'Nordeste Paraense'],\n",
       " ['Terra Santa', '3.22', 'Baixo Amazonas'],\n",
       " ['Tome-Acu', '11.89', 'Nordeste Paraense'],\n",
       " ['Tracuateua', '14.64', 'Nordeste Paraense'],\n",
       " ['Trairao', '18.25', 'Sudoeste Paraense'],\n",
       " ['Tucuma', '17.74', 'Sudeste Paraense'],\n",
       " ['Tucurui', '13.97', 'Sudeste Paraense'],\n",
       " ['Ulianopolis', '15.77', 'Sudeste Paraense'],\n",
       " ['Uruara', '14.05', 'Sudoeste Paraense'],\n",
       " ['Vigia', '12.64', 'Nordeste Paraense'],\n",
       " ['Viseu', '19.4', 'Nordeste Paraense'],\n",
       " ['Vitoria do Xingu', '8.22', 'Sudoeste Paraense'],\n",
       " ['Xinguara', '16.95', 'Sudeste Paraense']]"
      ]
     },
     "metadata": {},
     "execution_count": 40
    }
   ],
   "metadata": {}
  },
  {
   "cell_type": "code",
   "execution_count": 41,
   "source": [
    "#selecionando a amostra\r\n",
    "random.seed(30)\r\n",
    "amostra_aas = random.sample(populacao, 60)\r\n",
    "amostra_aas\r\n"
   ],
   "outputs": [
    {
     "output_type": "execute_result",
     "data": {
      "text/plain": [
       "[['Ulianopolis', '15.77', 'Sudeste Paraense'],\n",
       " ['Monte Alegre', '16.19', 'Baixo Amazonas'],\n",
       " ['Altamira', '14.36', 'Sudoeste Paraense'],\n",
       " ['Igarape-Miri', '14', 'Nordeste Paraense'],\n",
       " ['Maraba', '15.14', 'Sudeste Paraense'],\n",
       " ['Aurora do Para', '4.71', 'Nordeste Paraense'],\n",
       " ['Rio Maria', '14.23', 'Sudeste Paraense'],\n",
       " ['Porto de Moz', '27.34', 'Baixo Amazonas'],\n",
       " ['Capitao Poco', '15.86', 'Nordeste Paraense'],\n",
       " ['Benevides', '14.01', 'Metropolitana de Belem'],\n",
       " ['Sao Domingos do Capim', '10.75', 'Nordeste Paraense'],\n",
       " ['Abel Figueiredo', '7.58', 'Sudeste Paraense'],\n",
       " ['Limoeiro do Ajuru', '19.23', 'Nordeste Paraense'],\n",
       " ['Almeirim', '25.67', 'Baixo Amazonas'],\n",
       " ['Belem', '15.5', 'Metropolitana de Belem'],\n",
       " ['Cumaru do Norte', '10', 'Sudeste Paraense'],\n",
       " ['Rondon do Para', '7.56', 'Sudeste Paraense'],\n",
       " ['Sao Joao do Araguaia', '10.93', 'Sudeste Paraense'],\n",
       " ['Santa Barbara do Para', '15.2', 'Metropolitana de Belem'],\n",
       " ['Oriximina', '18.08', 'Baixo Amazonas'],\n",
       " ['Curuca', '14.6', 'Nordeste Paraense'],\n",
       " ['Marituba', '13.8', 'Metropolitana de Belem'],\n",
       " ['Santana do Araguaia', '6.64', 'Sudeste Paraense'],\n",
       " ['Anajas', '14.49', 'Marajo'],\n",
       " ['Gurupa', '11.66', 'Marajo'],\n",
       " ['Afua', '11.85', 'Marajo'],\n",
       " ['Cameta', '18.14', 'Nordeste Paraense'],\n",
       " ['Ruropolis', '14.74', 'Sudoeste Paraense'],\n",
       " ['Moju', '26.09', 'Nordeste Paraense'],\n",
       " ['Pacaja', '18.09', 'Sudoeste Paraense'],\n",
       " ['Castanhal', '10.16', 'Metropolitana de Belem'],\n",
       " ['Prainha', '9.35', 'Baixo Amazonas'],\n",
       " ['Inhangapi', '18.52', 'Metropolitana de Belem'],\n",
       " ['Santo Antonio do Taua', '13.67', 'Metropolitana de Belem'],\n",
       " ['Xinguara', '16.95', 'Sudeste Paraense'],\n",
       " ['Santarem Novo', '21.05', 'Nordeste Paraense'],\n",
       " ['Santarem', '18.34', 'Baixo Amazonas'],\n",
       " ['obidos', '13.79', 'Baixo Amazonas'],\n",
       " ['Mocajuba', '15.22', 'Nordeste Paraense'],\n",
       " ['Bagre', '25.55', 'Marajo'],\n",
       " ['Nova Timboteua', '7.63', 'Nordeste Paraense'],\n",
       " ['Mae do Rio', '15.96', 'Nordeste Paraense'],\n",
       " ['Concordia do Para', '16.51', 'Nordeste Paraense'],\n",
       " ['Bannach', '0', 'Sudeste Paraense'],\n",
       " ['Tucurui', '13.97', 'Sudeste Paraense'],\n",
       " ['Quatipuru', '6.17', 'Nordeste Paraense'],\n",
       " ['Canaa dos Carajas', '13.63', 'Sudeste Paraense'],\n",
       " ['Magalhaes Barata', '17.09', 'Nordeste Paraense'],\n",
       " ['Anapu', '10.74', 'Sudoeste Paraense'],\n",
       " ['Barcarena', '10.03', 'Metropolitana de Belem'],\n",
       " ['Sao Domingos do Araguaia', '5.68', 'Sudeste Paraense'],\n",
       " ['Parauapebas', '12.46', 'Sudeste Paraense'],\n",
       " ['Senador Jose Porfirio', '13.11', 'Sudoeste Paraense'],\n",
       " ['Baiao', '27.94', 'Nordeste Paraense'],\n",
       " ['Tome-Acu', '11.89', 'Nordeste Paraense'],\n",
       " ['Igarape-Acu', '10.77', 'Nordeste Paraense'],\n",
       " ['Tucuma', '17.74', 'Sudeste Paraense'],\n",
       " ['Conceicao do Araguaia', '21.25', 'Sudeste Paraense'],\n",
       " ['Bonito', '4.76', 'Nordeste Paraense'],\n",
       " ['Marapanim', '9.9', 'Nordeste Paraense']]"
      ]
     },
     "metadata": {},
     "execution_count": 41
    }
   ],
   "metadata": {}
  },
  {
   "cell_type": "code",
   "execution_count": 43,
   "source": [
    "#adicionando os dados da amostra em um dicionário para verificar quantas quais e quantas mesoregiões fazem parte da amostra\r\n",
    "def cont_mesoreg(matriz_amostra):\r\n",
    "    mesoregioes_selec = [item[2] for item in matriz_amostra]\r\n",
    "    mesoreg = {\r\n",
    "        'Baixo Amazonas': mesoregioes_selec_aas.count('Baixo Amazonas'),\r\n",
    "        'Marajo':mesoregioes_selec_aas.count('Marajo'),\r\n",
    "        'Metropolitana de Belem': mesoregioes_selec.count('Metropolitana de Belem'),\r\n",
    "        'Nordeste Paraense': mesoregioes_selec.count('Nordeste Paraense'),\r\n",
    "        'Sudoeste Paraense': mesoregioes_selec.count('Sudoeste Paraense'),\r\n",
    "        'Sudeste Paraense': mesoregioes_selec.count('Sudeste Paraense'),\r\n",
    "    }\r\n",
    "    return mesoreg\r\n",
    "mesoreg_selec_aas =cont_mesoreg(amostra_aas)\r\n",
    "mesoreg_selec_aas\r\n"
   ],
   "outputs": [
    {
     "output_type": "execute_result",
     "data": {
      "text/plain": [
       "{'Baixo Amazonas': 7,\n",
       " 'Marajo': 4,\n",
       " 'Metropolitana de Belem': 8,\n",
       " 'Nordeste Paraense': 20,\n",
       " 'Sudoeste Paraense': 5,\n",
       " 'Sudeste Paraense': 16}"
      ]
     },
     "metadata": {},
     "execution_count": 43
    }
   ],
   "metadata": {}
  },
  {
   "cell_type": "code",
   "execution_count": 44,
   "source": [
    "#coletando somente a lista de números da amostra juntamente as estatísticas básicas\r\n",
    "numeros_aas = list(map(lambda x:float(x), [item[1] for item in amostra_aas]))\r\n",
    "\r\n",
    "media_aas, variancia_aas, desv_padr_aas, cv_aas = estatisticas_basicas(numeros_aas)\r\n",
    "print(f'A média da taxa de homicídios da amostra é {media_aas:.2f}, a variância é {variancia_aas:.2f}, o desvio padrão é {desv_padr_aas:.2f} e o cv é igual a {cv_aas:.2f}')"
   ],
   "outputs": [
    {
     "output_type": "stream",
     "name": "stdout",
     "text": [
      "A média da taxa de homicídios da amostra é 14.20, a variância é 31.44, o desvio padrão é 5.61 e o cv é igual a 0.39\n"
     ]
    }
   ],
   "metadata": {}
  },
  {
   "cell_type": "code",
   "execution_count": 45,
   "source": [
    "#utilizando a função criada para desenvolver o dicionario com as classes e suas respectivas frequencias e uma lista com os pontos médios\r\n",
    "classes_aas, ponto_medio_aas = listas_dict_classes(numeros_aas)\r\n",
    "\r\n",
    "print(classes_aas, ponto_medio_aas)"
   ],
   "outputs": [
    {
     "output_type": "stream",
     "name": "stdout",
     "text": [
      "{'0.0|---4.0': 1, '4.0|---8.0': 8, '8.0|---12.0': 12, '12.0|---16.0': 21, '16.0|---20.0': 11, '20.0|---24.0': 2, '24.0|---28.0': 5, '28.0|---32.0': 0} [2.0, 6.0, 10.0, 14.0, 18.0, 22.0, 26.0, 30.0]\n"
     ]
    }
   ],
   "metadata": {}
  },
  {
   "cell_type": "code",
   "execution_count": 46,
   "source": [
    "print(f'{\"Classes\":^13} | {\"Fi\":^4}')\r\n",
    "print(f'{\"-\"*14}|{\"-\"*5}')\r\n",
    "for i, j in classes_aas.items():\r\n",
    "    print(f'{i:^13} | {j:>4}')"
   ],
   "outputs": [
    {
     "output_type": "stream",
     "name": "stdout",
     "text": [
      "   Classes    |  Fi \n",
      "--------------|-----\n",
      " 0.0|---4.0   |    1\n",
      " 4.0|---8.0   |    8\n",
      " 8.0|---12.0  |   12\n",
      "12.0|---16.0  |   21\n",
      "16.0|---20.0  |   11\n",
      "20.0|---24.0  |    2\n",
      "24.0|---28.0  |    5\n",
      "28.0|---32.0  |    0\n"
     ]
    }
   ],
   "metadata": {}
  },
  {
   "cell_type": "code",
   "execution_count": 47,
   "source": [
    "#plotagem do histograma\r\n",
    "plt.bar(ponto_medio_aas, [t for t in classes_aas.values()],4, color='green')\r\n",
    "plt.title('Histograma do número de Homicídios do estado do Pará')\r\n",
    "plt.xticks(ponto_medio_aas)\r\n",
    "plt.show()"
   ],
   "outputs": [
    {
     "output_type": "display_data",
     "data": {
      "image/png": "[encoded data removed]",
      "text/plain": [
       "<Figure size 432x288 with 1 Axes>"
      ]
     },
     "metadata": {
      "needs_background": "light"
     }
    }
   ],
   "metadata": {}
  },
  {
   "cell_type": "markdown",
   "source": [
    "# Amostragem Sistemática\r\n"
   ],
   "metadata": {}
  },
  {
   "cell_type": "code",
   "execution_count": 48,
   "source": [
    "#utilizando o arquivo .csv com os dados ordenados da menor taxa de homicio para a maior taxa.\r\n",
    "with open('dados2_ordenado.csv', 'r') as arquivo:\r\n",
    "    ler = csv.reader(arquivo, delimiter =';')\r\n",
    "    populacao_ord = [item for item in ler]\r\n",
    "populacao_ord"
   ],
   "outputs": [
    {
     "output_type": "execute_result",
     "data": {
      "text/plain": [
       "[['Bannach', '0', 'Sudeste Paraense'],\n",
       " ['Nova Ipixuna', '0', 'Sudeste Paraense'],\n",
       " ['Palestina do Para', '0', 'Sudeste Paraense'],\n",
       " ['Santa Luzia do Para', '0', 'Nordeste Paraense'],\n",
       " ['Sao Joao da Ponta', '0', 'Nordeste Paraense'],\n",
       " ['Terra Santa', '3.22', 'Baixo Amazonas'],\n",
       " ['Aurora do Para', '4.71', 'Nordeste Paraense'],\n",
       " ['Bonito', '4.76', 'Nordeste Paraense'],\n",
       " ['Dom Eliseu', '5.03', 'Sudeste Paraense'],\n",
       " ['Primavera', '5.24', 'Nordeste Paraense'],\n",
       " ['Terra Alta', '5.49', 'Nordeste Paraense'],\n",
       " ['Sao Domingos do Araguaia', '5.68', 'Sudeste Paraense'],\n",
       " ['Quatipuru', '6.17', 'Nordeste Paraense'],\n",
       " ['Melgaco', '6.36', 'Marajo'],\n",
       " ['Ourem', '6.45', 'Nordeste Paraense'],\n",
       " ['Bujaru', '6.48', 'Metropolitana de Belem'],\n",
       " ['Santana do Araguaia', '6.64', 'Sudeste Paraense'],\n",
       " ['Novo Progresso', '6.84', 'Sudoeste Paraense'],\n",
       " ['Rondon do Para', '7.56', 'Sudeste Paraense'],\n",
       " ['Abel Figueiredo', '7.58', 'Sudeste Paraense'],\n",
       " ['Nova Timboteua', '7.63', 'Nordeste Paraense'],\n",
       " ['Soure', '7.77', 'Marajo'],\n",
       " ['Vitoria do Xingu', '8.22', 'Sudoeste Paraense'],\n",
       " ['Garrafao do Norte', '8.23', 'Nordeste Paraense'],\n",
       " ['Floresta do Araguaia', '8.72', 'Sudeste Paraense'],\n",
       " ['Salinopolis', '8.82', 'Nordeste Paraense'],\n",
       " ['Braganca', '8.93', 'Nordeste Paraense'],\n",
       " ['Sao Caetano de Odivelas', '8.93', 'Nordeste Paraense'],\n",
       " ['Sao Geraldo do Araguaia', '9.2', 'Sudeste Paraense'],\n",
       " ['Brasil Novo', '9.23', 'Sudoeste Paraense'],\n",
       " ['Prainha', '9.35', 'Baixo Amazonas'],\n",
       " ['Marapanim', '9.9', 'Nordeste Paraense'],\n",
       " ['Brejo Grande do Araguaia', '10', 'Sudeste Paraense'],\n",
       " ['Cumaru do Norte', '10', 'Sudeste Paraense'],\n",
       " ['Barcarena', '10.03', 'Metropolitana de Belem'],\n",
       " ['Castanhal', '10.16', 'Metropolitana de Belem'],\n",
       " ['Bom Jesus do Tocantins', '10.27', 'Sudeste Paraense'],\n",
       " ['Peixe-Boi', '10.53', 'Nordeste Paraense'],\n",
       " ['Anapu', '10.74', 'Sudoeste Paraense'],\n",
       " ['Sao Domingos do Capim', '10.75', 'Nordeste Paraense'],\n",
       " ['Sapucaia', '10.75', 'Sudeste Paraense'],\n",
       " ['Igarape-Acu', '10.77', 'Nordeste Paraense'],\n",
       " ['Sao Joao do Araguaia', '10.93', 'Sudeste Paraense'],\n",
       " ['Abaetetuba', '11.44', 'Nordeste Paraense'],\n",
       " ['Nova Esperanca do Piria', '11.53', 'Nordeste Paraense'],\n",
       " ['Paragominas', '11.64', 'Sudeste Paraense'],\n",
       " ['Gurupa', '11.66', 'Marajo'],\n",
       " ['Afua', '11.85', 'Marajo'],\n",
       " ['Tome-Acu', '11.89', 'Nordeste Paraense'],\n",
       " ['Parauapebas', '12.46', 'Sudeste Paraense'],\n",
       " ['Ananindeua', '12.56', 'Metropolitana de Belem'],\n",
       " ['Vigia', '12.64', 'Nordeste Paraense'],\n",
       " ['Colares', '12.74', 'Nordeste Paraense'],\n",
       " ['Senador Jose Porfirio', '13.11', 'Sudoeste Paraense'],\n",
       " ['Santa Maria do Para', '13.19', 'Nordeste Paraense'],\n",
       " ['Canaa dos Carajas', '13.63', 'Sudeste Paraense'],\n",
       " ['Santo Antonio do Taua', '13.67', 'Metropolitana de Belem'],\n",
       " ['Ponta de Pedras', '13.77', 'Marajo'],\n",
       " ['obidos', '13.79', 'Baixo Amazonas'],\n",
       " ['Marituba', '13.8', 'Metropolitana de Belem'],\n",
       " ['Tucurui', '13.97', 'Sudeste Paraense'],\n",
       " ['Igarape-Miri', '14', 'Nordeste Paraense'],\n",
       " ['Benevides', '14.01', 'Metropolitana de Belem'],\n",
       " ['Ipixuna do Para', '14.02', 'Nordeste Paraense'],\n",
       " ['Sao Miguel do Guama', '14.04', 'Nordeste Paraense'],\n",
       " ['Uruara', '14.05', 'Sudoeste Paraense'],\n",
       " ['Placas', '14.18', 'Baixo Amazonas'],\n",
       " ['Portel', '14.23', 'Marajo'],\n",
       " ['Rio Maria', '14.23', 'Sudeste Paraense'],\n",
       " ['Altamira', '14.36', 'Sudoeste Paraense'],\n",
       " ['Anajas', '14.49', 'Marajo'],\n",
       " ['Curuca', '14.6', 'Nordeste Paraense'],\n",
       " ['Tracuateua', '14.64', 'Nordeste Paraense'],\n",
       " ['Ruropolis', '14.74', 'Sudoeste Paraense'],\n",
       " ['Augusto Correa', '14.87', 'Nordeste Paraense'],\n",
       " ['Novo Repartimento', '15.08', 'Sudeste Paraense'],\n",
       " ['Santa Isabel do Para', '15.08', 'Metropolitana de Belem'],\n",
       " ['Maraba', '15.14', 'Sudeste Paraense'],\n",
       " ['Tailandia', '15.14', 'Nordeste Paraense'],\n",
       " ['Santa Barbara do Para', '15.2', 'Metropolitana de Belem'],\n",
       " ['Sao Sebastiao da Boa Vista', '15.21', 'Marajo'],\n",
       " ['Mocajuba', '15.22', 'Nordeste Paraense'],\n",
       " ['Itupiranga', '15.38', 'Sudeste Paraense'],\n",
       " ['Jacunda', '15.41', 'Sudeste Paraense'],\n",
       " ['Belem', '15.5', 'Metropolitana de Belem'],\n",
       " ['Ourilandia do Norte', '15.56', 'Sudeste Paraense'],\n",
       " ['Ulianopolis', '15.77', 'Sudeste Paraense'],\n",
       " ['Capitao Poco', '15.86', 'Nordeste Paraense'],\n",
       " ['Mae do Rio', '15.96', 'Nordeste Paraense'],\n",
       " ['Monte Alegre', '16.19', 'Baixo Amazonas'],\n",
       " ['Concordia do Para', '16.51', 'Nordeste Paraense'],\n",
       " ['Xinguara', '16.95', 'Sudeste Paraense'],\n",
       " ['Capanema', '17', 'Nordeste Paraense'],\n",
       " ['Sao Francisco do Para', '17.02', 'Nordeste Paraense'],\n",
       " ['Magalhaes Barata', '17.09', 'Nordeste Paraense'],\n",
       " ['Breves', '17.17', 'Marajo'],\n",
       " ['Acara', '17.36', 'Nordeste Paraense'],\n",
       " ['Itaituba', '17.38', 'Sudoeste Paraense'],\n",
       " ['Chaves', '17.7', 'Marajo'],\n",
       " ['Tucuma', '17.74', 'Sudeste Paraense'],\n",
       " ['Salvaterra', '17.8', 'Marajo'],\n",
       " ['Goianesia do Para', '17.92', 'Sudeste Paraense'],\n",
       " ['Oriximina', '18.08', 'Baixo Amazonas'],\n",
       " ['Pacaja', '18.09', 'Sudoeste Paraense'],\n",
       " ['Cameta', '18.14', 'Nordeste Paraense'],\n",
       " ['Santa Cruz do Arari', '18.18', 'Marajo'],\n",
       " ['Trairao', '18.25', 'Sudoeste Paraense'],\n",
       " ['Breu Branco', '18.3', 'Sudeste Paraense'],\n",
       " ['Santarem', '18.34', 'Baixo Amazonas'],\n",
       " ['Inhangapi', '18.52', 'Metropolitana de Belem'],\n",
       " ['Santa Maria das Barreiras', '18.6', 'Sudeste Paraense'],\n",
       " ['Redencao', '19.12', 'Sudeste Paraense'],\n",
       " ['Limoeiro do Ajuru', '19.23', 'Nordeste Paraense'],\n",
       " ['Belterra', '19.29', 'Baixo Amazonas'],\n",
       " ['Viseu', '19.4', 'Nordeste Paraense'],\n",
       " ['Cachoeira do Piria', '19.48', 'Nordeste Paraense'],\n",
       " ['Muana', '19.48', 'Marajo'],\n",
       " ['Sao Joao de Pirabas', '19.54', 'Nordeste Paraense'],\n",
       " ['Irituia', '19.74', 'Nordeste Paraense'],\n",
       " ['Jacareacanga', '20.41', 'Sudoeste Paraense'],\n",
       " ['Aveiro', '20.69', 'Sudoeste Paraense'],\n",
       " ['Eldorado dos Carajas', '20.75', 'Sudeste Paraense'],\n",
       " ['Mojui dos campos', '20.9', 'Baixo Amazonas'],\n",
       " ['Santarem Novo', '21.05', 'Nordeste Paraense'],\n",
       " ['Conceicao do Araguaia', '21.25', 'Sudeste Paraense'],\n",
       " ['Curionopolis', '22.44', 'Sudeste Paraense'],\n",
       " ['Cachoeira do Arari', '23.32', 'Marajo'],\n",
       " ['Faro', '24.19', 'Baixo Amazonas'],\n",
       " ['Sao Felix do Xingu', '24.21', 'Sudeste Paraense'],\n",
       " ['Picarra', '24.24', 'Sudeste Paraense'],\n",
       " ['Curralinho', '24.46', 'Marajo'],\n",
       " ['Medicilandia', '24.49', 'Sudoeste Paraense'],\n",
       " [\"Pau D'Arco\", '25', 'Sudeste Paraense'],\n",
       " ['Alenquer', '25.13', 'Baixo Amazonas'],\n",
       " ['Curua', '25.21', 'Baixo Amazonas'],\n",
       " ['Oeiras do Para', '25.34', 'Nordeste Paraense'],\n",
       " ['Bagre', '25.55', 'Marajo'],\n",
       " ['Almeirim', '25.67', 'Baixo Amazonas'],\n",
       " ['Maracana', '25.71', 'Nordeste Paraense'],\n",
       " ['Moju', '26.09', 'Nordeste Paraense'],\n",
       " ['Porto de Moz', '27.34', 'Baixo Amazonas'],\n",
       " ['Juruti', '27.53', 'Baixo Amazonas'],\n",
       " ['Baiao', '27.94', 'Nordeste Paraense'],\n",
       " ['agua Azul do Norte', '31.11', 'Sudeste Paraense']]"
      ]
     },
     "metadata": {},
     "execution_count": 48
    }
   ],
   "metadata": {}
  },
  {
   "cell_type": "code",
   "execution_count": 49,
   "source": [
    "#calculando o valor de K para verificar a distancia dos intervalos e deciasão do inicio da selação atarvés do r\r\n",
    "k_as = round(len(populacao_ord)/n)\r\n",
    "r = random.randint(1,k_as)\r\n",
    "posicoes_amostras = [r]\r\n",
    "for posicao in range(1,n):\r\n",
    "    posicoes_amostras.append(r+posicao*k_as)\r\n"
   ],
   "outputs": [],
   "metadata": {}
  },
  {
   "cell_type": "code",
   "execution_count": 53,
   "source": [
    "amostra_as =[]\r\n",
    "for seletor in posicoes_amostras:\r\n",
    "    amostra_as.append(populacao_ord[seletor])\r\n",
    "amostra_as"
   ],
   "outputs": [
    {
     "output_type": "execute_result",
     "data": {
      "text/plain": [
       "[['Nova Ipixuna', '0', 'Sudeste Paraense'],\n",
       " ['Santa Luzia do Para', '0', 'Nordeste Paraense'],\n",
       " ['Terra Santa', '3.22', 'Baixo Amazonas'],\n",
       " ['Bonito', '4.76', 'Nordeste Paraense'],\n",
       " ['Primavera', '5.24', 'Nordeste Paraense'],\n",
       " ['Sao Domingos do Araguaia', '5.68', 'Sudeste Paraense'],\n",
       " ['Melgaco', '6.36', 'Marajo'],\n",
       " ['Bujaru', '6.48', 'Metropolitana de Belem'],\n",
       " ['Novo Progresso', '6.84', 'Sudoeste Paraense'],\n",
       " ['Abel Figueiredo', '7.58', 'Sudeste Paraense'],\n",
       " ['Soure', '7.77', 'Marajo'],\n",
       " ['Garrafao do Norte', '8.23', 'Nordeste Paraense'],\n",
       " ['Salinopolis', '8.82', 'Nordeste Paraense'],\n",
       " ['Sao Caetano de Odivelas', '8.93', 'Nordeste Paraense'],\n",
       " ['Brasil Novo', '9.23', 'Sudoeste Paraense'],\n",
       " ['Marapanim', '9.9', 'Nordeste Paraense'],\n",
       " ['Cumaru do Norte', '10', 'Sudeste Paraense'],\n",
       " ['Castanhal', '10.16', 'Metropolitana de Belem'],\n",
       " ['Peixe-Boi', '10.53', 'Nordeste Paraense'],\n",
       " ['Sao Domingos do Capim', '10.75', 'Nordeste Paraense'],\n",
       " ['Igarape-Acu', '10.77', 'Nordeste Paraense'],\n",
       " ['Abaetetuba', '11.44', 'Nordeste Paraense'],\n",
       " ['Paragominas', '11.64', 'Sudeste Paraense'],\n",
       " ['Afua', '11.85', 'Marajo'],\n",
       " ['Parauapebas', '12.46', 'Sudeste Paraense'],\n",
       " ['Vigia', '12.64', 'Nordeste Paraense'],\n",
       " ['Senador Jose Porfirio', '13.11', 'Sudoeste Paraense'],\n",
       " ['Canaa dos Carajas', '13.63', 'Sudeste Paraense'],\n",
       " ['Ponta de Pedras', '13.77', 'Marajo'],\n",
       " ['Marituba', '13.8', 'Metropolitana de Belem'],\n",
       " ['Igarape-Miri', '14', 'Nordeste Paraense'],\n",
       " ['Ipixuna do Para', '14.02', 'Nordeste Paraense'],\n",
       " ['Uruara', '14.05', 'Sudoeste Paraense'],\n",
       " ['Portel', '14.23', 'Marajo'],\n",
       " ['Altamira', '14.36', 'Sudoeste Paraense'],\n",
       " ['Curuca', '14.6', 'Nordeste Paraense'],\n",
       " ['Ruropolis', '14.74', 'Sudoeste Paraense'],\n",
       " ['Novo Repartimento', '15.08', 'Sudeste Paraense'],\n",
       " ['Maraba', '15.14', 'Sudeste Paraense'],\n",
       " ['Santa Barbara do Para', '15.2', 'Metropolitana de Belem'],\n",
       " ['Mocajuba', '15.22', 'Nordeste Paraense'],\n",
       " ['Jacunda', '15.41', 'Sudeste Paraense'],\n",
       " ['Ourilandia do Norte', '15.56', 'Sudeste Paraense'],\n",
       " ['Capitao Poco', '15.86', 'Nordeste Paraense'],\n",
       " ['Monte Alegre', '16.19', 'Baixo Amazonas'],\n",
       " ['Xinguara', '16.95', 'Sudeste Paraense'],\n",
       " ['Sao Francisco do Para', '17.02', 'Nordeste Paraense'],\n",
       " ['Breves', '17.17', 'Marajo'],\n",
       " ['Itaituba', '17.38', 'Sudoeste Paraense'],\n",
       " ['Tucuma', '17.74', 'Sudeste Paraense'],\n",
       " ['Goianesia do Para', '17.92', 'Sudeste Paraense'],\n",
       " ['Pacaja', '18.09', 'Sudoeste Paraense'],\n",
       " ['Santa Cruz do Arari', '18.18', 'Marajo'],\n",
       " ['Breu Branco', '18.3', 'Sudeste Paraense'],\n",
       " ['Inhangapi', '18.52', 'Metropolitana de Belem'],\n",
       " ['Redencao', '19.12', 'Sudeste Paraense'],\n",
       " ['Belterra', '19.29', 'Baixo Amazonas'],\n",
       " ['Cachoeira do Piria', '19.48', 'Nordeste Paraense'],\n",
       " ['Sao Joao de Pirabas', '19.54', 'Nordeste Paraense'],\n",
       " ['Jacareacanga', '20.41', 'Sudoeste Paraense']]"
      ]
     },
     "metadata": {},
     "execution_count": 53
    }
   ],
   "metadata": {}
  },
  {
   "cell_type": "code",
   "execution_count": 54,
   "source": [
    "mesoreg_select_as =cont_mesoreg(amostra_as)\r\n",
    "mesoreg_select_as\r\n"
   ],
   "outputs": [
    {
     "output_type": "execute_result",
     "data": {
      "text/plain": [
       "{'Baixo Amazonas': 7,\n",
       " 'Marajo': 4,\n",
       " 'Metropolitana de Belem': 5,\n",
       " 'Nordeste Paraense': 20,\n",
       " 'Sudoeste Paraense': 9,\n",
       " 'Sudeste Paraense': 16}"
      ]
     },
     "metadata": {},
     "execution_count": 54
    }
   ],
   "metadata": {}
  },
  {
   "cell_type": "code",
   "execution_count": 56,
   "source": [
    "#separando os valores numericos da matriz\r\n",
    "numeros_as = list(map(lambda x:float(x),[item[1] for item in amostra_as]))\r\n",
    "media_as, variancia_as, desv_padr_as, cv_as = estatisticas_basicas(numeros_as)\r\n",
    "print(f'A média da taxa de homicídios da amostra é {media_as:.2f}, a variância é {variancia_as:.2f}, o desvio padrão é {desv_padr_as:.2f} e o cv é igual a {cv_as:.2f}')\r\n"
   ],
   "outputs": [
    {
     "output_type": "stream",
     "name": "stdout",
     "text": [
      "A média da taxa de homicídios da amostra é 12.74, a variância é 23.64, o desvio padrão é 4.86 e o cv é igual a 0.38\n"
     ]
    }
   ],
   "metadata": {}
  },
  {
   "cell_type": "code",
   "execution_count": 59,
   "source": [
    "#criação do dicionário para armazenamento das classes e da lista de pontos mádios\r\n",
    "classes_as, ponto_medio_as = listas_dict_classes(numeros_as)\r\n",
    "print(classes_as, ponto_medio_as)"
   ],
   "outputs": [
    {
     "output_type": "stream",
     "name": "stdout",
     "text": [
      "{'0.0|---3.0': 2, '3.0|---6.0': 4, '6.0|---9.0': 8, '9.0|---12.0': 10, '12.0|---15.0': 13, '15.0|---18.0': 14, '18.0|---21.0': 9, '21.0|---24.0': 0} [1.5, 4.5, 7.5, 10.5, 13.5, 16.5, 19.5, 22.5]\n"
     ]
    }
   ],
   "metadata": {}
  },
  {
   "cell_type": "code",
   "execution_count": 60,
   "source": [
    "print(f'{\"Classes\":^13} | {\"Fi\":^4}')\r\n",
    "print(f'{\"-\"*14}|{\"-\"*5}')\r\n",
    "for i, j in classes_as.items():\r\n",
    "    print(f'{i:^13} | {j:>4}')"
   ],
   "outputs": [
    {
     "output_type": "stream",
     "name": "stdout",
     "text": [
      "   Classes    |  Fi \n",
      "--------------|-----\n",
      " 0.0|---3.0   |    2\n",
      " 3.0|---6.0   |    4\n",
      " 6.0|---9.0   |    8\n",
      " 9.0|---12.0  |   10\n",
      "12.0|---15.0  |   13\n",
      "15.0|---18.0  |   14\n",
      "18.0|---21.0  |    9\n",
      "21.0|---24.0  |    0\n"
     ]
    }
   ],
   "metadata": {}
  },
  {
   "cell_type": "code",
   "execution_count": 61,
   "source": [
    "#plotagem do histograma\r\n",
    "plt.bar(ponto_medio_as, [t for t in classes_as.values()],3, color='orange')\r\n",
    "plt.title('Histograma do número de Homicídios do estado do Pará')\r\n",
    "plt.xticks(ponto_medio_as)\r\n",
    "plt.show()"
   ],
   "outputs": [
    {
     "output_type": "display_data",
     "data": {
      "image/png": "[encoded data removed]",
      "text/plain": [
       "<Figure size 432x288 with 1 Axes>"
      ]
     },
     "metadata": {
      "needs_background": "light"
     }
    }
   ],
   "metadata": {}
  },
  {
   "cell_type": "markdown",
   "source": [
    "# Amostragem Estratificada"
   ],
   "metadata": {}
  },
  {
   "cell_type": "code",
   "execution_count": null,
   "source": [],
   "outputs": [],
   "metadata": {}
  }
 ],
 "metadata": {
  "orig_nbformat": 4,
  "language_info": {
   "name": "python",
   "version": "3.7.0",
   "mimetype": "text/x-python",
   "codemirror_mode": {
    "name": "ipython",
    "version": 3
   },
   "pygments_lexer": "ipython3",
   "nbconvert_exporter": "python",
   "file_extension": ".py"
  },
  "kernelspec": {
   "name": "python3",
   "display_name": "Python 3.7.0 64-bit"
  },
  "interpreter": {
   "hash": "9619fbaae1e878f46ed7802714bb431ae3465b87f21f7a7a30856da22d0961b1"
  }
 },
 "nbformat": 4,
 "nbformat_minor": 2
}