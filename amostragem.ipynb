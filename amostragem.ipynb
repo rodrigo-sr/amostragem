{
 "cells": [
  {
   "cell_type": "markdown",
   "source": [
    "# Técnicas de Amostragem\n",
    "<h3> Objetivo:</h3>\n",
    "Este relatório tem como objetivo, a análise de dados sobre a taxa de homicídio no estado do Pará, possuindo divisões de mesorregiões e municípios do estado. Além disso, realizar comparações de três técnicas de amostragens mais comuns, sendo elas:\n",
    "<ul>\n",
    "    <li><b>Amostragem Aleatória Simples (AAS)</b></li>\n",
    "    <li><b>Amostragem Sistemática (AS)</b></li>\n",
    "    <li><b>Amostragem Estratificada (AE)</b></li>\n",
    "</ul>\n",
    "Sendo assim, realizado a análise utilizando os três tipos de técnicas, e comparando entre elas, qual tem maior representatividade com relação aos dados da população.\n",
    "<br>\n",
    "<h3>Métodos:</h3>\n",
    "Para realização da análise foi utilizado as três técnicas mais comuns de amostragem, uma base de dados com informações sobre a taxa de mortalidade de 144 municípios do estado do Pará no ano de 2019(FAPESPA), para fazer o processamento e extração de informação dos dados, foi utilizado a linguagem de programação Python incluindo algumas bibliotecas/módulos para realizar o processamento, sendo:\n",
    "<ul>\n",
    "    <li><b>csv:</b> utilizada para fazer leitura de arquivos csv</li>    \n",
    "    <li><b>math:</b> biblioteca para utilização de algumas funções matemáticas</li>    \n",
    "    <li><b>matplotlib:</b> biblioteca com uma variedade extensa de opções para plotar gráficos</li>\n",
    "    <li><b>functools(função reduce):</b> módulo utilizado para aplicar operações em itens de listas</li>\n",
    "    <li><b>random:</b> utilizada para fazer a seleção de forma aleatória dos dados</li>\n",
    "</ul>\n",
    "\n",
    "Além de bibliotecas da linguagem, foi utilizado o `Jupyter Notebook`, ferramenta muito utilizada na área de ciência de dados.\n"
   ],
   "metadata": {}
  },
  {
   "cell_type": "code",
   "execution_count": 32,
   "source": [
    "#importação das bibliotecas/móduos a serem utilizados\r\n",
    "import csv\r\n",
    "import math\r\n",
    "import matplotlib.pyplot as plt\r\n",
    "from functools import reduce\r\n",
    "import random\r\n"
   ],
   "outputs": [],
   "metadata": {}
  },
  {
   "cell_type": "markdown",
   "source": [
    "# Resultados:\n",
    "O primeiro arquivo de dados utilizado foi o `dados2.csv`, contendo respectivamente as variáveis município, taxa de homicídio e mesorregião pertencente."
   ],
   "metadata": {}
  },
  {
   "cell_type": "code",
   "execution_count": 33,
   "source": [
    "with open('dados2.csv', 'r') as dados:\r\n",
    "    leitura = csv.reader(dados, delimiter=';')\r\n",
    "    matriz_dados = [i for i in leitura]\r\n",
    "\r\n"
   ],
   "outputs": [],
   "metadata": {}
  },
  {
   "cell_type": "markdown",
   "source": [
    "No primeiro momento foi realizada a análise dos dados da população, para que desta forma, seja possível fazer a comparação com as técnicas de Amostragem Aleatória Simples, Amostragem Sistemática e Amostragem Estratificada.\n",
    "<h4>Código do bloco a seguir:</h4>\n",
    "Os valores numéricos foram armazenados em um vetor denominado `numeros`; em seguida existe uma função que realiza o cálculo da média, variância, desvio padrão e o coeficiente de variação; e na última linha do bloco os valores dessas estatísticas populacionais foram armazenadas nas variáveis <b>media_p</b>, <b>variancia_p</b>, <b>desv_padr_p</b>, <b>cv_p</b>.\n",
    "<br>\n",
    "<h4>Fórmulas uilizadas:</h4>\n",
    "<b>$\\overline{X}$</b> = $(x_1+x_2+...+x_n)\\over N$<br>\n",
    "<b>$\\sigma^2$</b> = $\\sum(x_i-\\overline{X})^2\\over n$ <br>\n",
    "<b>$\\sigma$</b> = $\\sqrt{\\sigma^2}$<br>\n",
    "<b>$CV$</b> = $S\\over \\overline{X}$"
   ],
   "metadata": {}
  },
  {
   "cell_type": "code",
   "execution_count": 63,
   "source": [
    "#lista contendo os valores da taxa de mortalidade\r\n",
    "numeros = list(map(lambda x:float(x), [valor[1] for valor in matriz_dados]))\r\n",
    "\r\n",
    "#estatistica básicas\r\n",
    "def estatisticas_basicas(matriz_numeros):\r\n",
    "    media = reduce(lambda x, y: x+y, matriz_numeros)/len(matriz_numeros)\r\n",
    "    variancia = reduce(lambda x, y: x+(y-media)**2, matriz_numeros, 0)/len(matriz_numeros)\r\n",
    "    desv_padr = math.sqrt(variancia)\r\n",
    "    cv = desv_padr/media\r\n",
    "    return media, variancia, desv_padr, cv\r\n",
    "\r\n",
    "media_p, variancia_p, desv_padr_p, cv_p = estatisticas_basicas(numeros)\r\n",
    "media_p, variancia_p, desv_padr_p, cv_p = round(media_p,2), round(variancia_p,2), round(desv_padr_p,2), round(cv_p,2)\r\n",
    "\r\n"
   ],
   "outputs": [],
   "metadata": {}
  },
  {
   "cell_type": "markdown",
   "source": [
    "Realizando a distribuição de frêquencia por classes para futuramente plotar um histograma, necessitamos de alguns valores como at ou AT que representa a amplitude total da distribuição, k que é o número de classes e h que representa a amplitude de cada classe, onde:\n",
    "<ul>\n",
    "    <li><b>$AT$</b> = $X_(min)-X_(max)$</li> <br>\n",
    "    <li><b>$k$</b> = $\\sqrt{n}$</li><br>\n",
    "    <li><b>$h$</b> = $AT\\over k$</li><br>\n",
    "</ul>\n",
    "\n",
    "<h4>Codigo do bloco abaixo:</h4>\n",
    "Realizada a criação de duas funções para obter alguns valores. A função <b>valores_dist_classe</b> calcula a amplitude total (<b>at</b>), o número de classes (<b>k</b>) e a amplitude de cada classe (<b>h</b>). A segunda função, <b>listas_dict_classes</b>, separa em um dicionário o rótulo das classes (chave) e suas frequâncias, uma lista com as amplitudes, e uma lista contendo os pontos médios de cada classe, onde dentro da função é feito uma chamada da função <b>valores_dist_classe</b>, e no final retorna o dicionário de classes e a lista com os pontos médios."
   ],
   "metadata": {}
  },
  {
   "cell_type": "code",
   "execution_count": 35,
   "source": [
    "#criação de funções para calcular valores para classes como amplitude total, numero de classes = k e amplitude da classe = h\n",
    "#Juntamente a uma função para separar um dicionário para armazenar as classes e amplitudes com suas respectivas frequencias,\n",
    "#Uma lista contendo as amplitudes de classe, e uma lista com os pontos médios de cada classe\n",
    "\n",
    "def valores_dist_classe(matriz_numeros):\n",
    "    at = max(matriz_numeros) - min(matriz_numeros)\n",
    "    k = int(round(math.sqrt(len(matriz_numeros))))\n",
    "    h = math.ceil(at/k)\n",
    "    return k, h\n",
    "\n",
    "\n",
    "def listas_dict_classes(matriz_numeros):\n",
    "    classes = {}\n",
    "    amplitudes = []\n",
    "    ponto_medio = []\n",
    "    k, h = valores_dist_classe(matriz_numeros)\n",
    "    for i in range(k):\n",
    "        if len(amplitudes) == 0:\n",
    "            amplitudes.append(min(matriz_numeros))\n",
    "        else:\n",
    "            amplitudes.append(amplitudes[i-1]+h)\n",
    "\n",
    "    for i in range(len(amplitudes)):\n",
    "        if i < k-1:\n",
    "            classes[f'{amplitudes[i]}|---{amplitudes[i+1]}'] = len(\n",
    "                [x for x in matriz_numeros if x >= amplitudes[i] and x < amplitudes[i+1]])\n",
    "            ponto_medio.append((amplitudes[i]+amplitudes[i+1])/2)\n",
    "        else:\n",
    "            classes[f'{amplitudes[i]}|---{amplitudes[i]+h}'] = len(\n",
    "                [x for x in matriz_numeros if x >= amplitudes[i] and x < amplitudes[i]+h])\n",
    "            ponto_medio.append(((amplitudes[i]+(amplitudes[i]+h))/2))\n",
    "    \n",
    "    return classes,  ponto_medio\n",
    "\n",
    "classes_p, ponto_medio_p = listas_dict_classes(numeros)\n"
   ],
   "outputs": [],
   "metadata": {}
  },
  {
   "cell_type": "markdown",
   "source": [
    "Tabela 1: Distribuição de frequência por classes da população."
   ],
   "metadata": {}
  },
  {
   "cell_type": "code",
   "execution_count": 36,
   "source": [
    "print('Tabela 1: Distribuição de frequência por classes da população')\n",
    "print()\n",
    "print(f'{\"Classes\":^13} | {\"Fi\":^4}')\n",
    "print(f'{\"-\"*14}|{\"-\"*5}')\n",
    "for i, j in classes_p.items():\n",
    "    print(f'{i:^13} | {j:>4}')\n"
   ],
   "outputs": [
    {
     "output_type": "stream",
     "name": "stdout",
     "text": [
      "Tabela 1: Distribuição de frequência por classes da população\n",
      "\n",
      "   Classes    |  Fi \n",
      "--------------|-----\n",
      " 0.0|---3.0   |    5\n",
      " 3.0|---6.0   |    7\n",
      " 6.0|---9.0   |   16\n",
      " 9.0|---12.0  |   21\n",
      "12.0|---15.0  |   26\n",
      "15.0|---18.0  |   27\n",
      "18.0|---21.0  |   21\n",
      "21.0|---24.0  |    4\n",
      "24.0|---27.0  |   13\n",
      "27.0|---30.0  |    3\n",
      "30.0|---33.0  |    1\n",
      "33.0|---36.0  |    0\n"
     ]
    }
   ],
   "metadata": {
    "scrolled": true
   }
  },
  {
   "cell_type": "markdown",
   "source": [
    "Para a população foram obtidas 12 classes com uma amplitude (h) = 3, onde a classe 15|---18 apresentam a maior frequência, e a classe 33|---36 apresentam a menor frequência de classe."
   ],
   "metadata": {}
  },
  {
   "cell_type": "code",
   "execution_count": 37,
   "source": [
    "#define o estilo do gráfico para ggplot\n",
    "plt.style.use(\"ggplot\")"
   ],
   "outputs": [],
   "metadata": {}
  },
  {
   "cell_type": "code",
   "execution_count": 38,
   "source": [
    "#plotagem do histograma\n",
    "plt.bar(ponto_medio_p, [t for t in classes_p.values()], 3, color='#4B6BEA')\n",
    "plt.title('Figura 1:Histograma do número de Homicídios no estado do Pará')\n",
    "plt.xticks(ponto_medio_p)\n",
    "plt.show()\n"
   ],
   "outputs": [
    {
     "output_type": "display_data",
     "data": {
      "image/png": "[encoded data removed]",
      "text/plain": [
       "<Figure size 432x288 with 1 Axes>"
      ]
     },
     "metadata": {}
    }
   ],
   "metadata": {}
  },
  {
   "cell_type": "code",
   "execution_count": 39,
   "source": [
    "#calcular o a quantidade da amostra \"n\"\n",
    "n = (math.pow(1.96, 2)*math.pow(variancia_p, 2))/(sum(numeros) *\n",
    "                                                0.05+math.pow(1.96, 2)*math.pow(variancia_p, 2)/sum(numeros))\n",
    "n = math.ceil(n)\n",
    "\n"
   ],
   "outputs": [],
   "metadata": {}
  },
  {
   "cell_type": "markdown",
   "source": [
    "Antes de iniciar as análises com as técnicas de amostragem, foi feito o cálculo do valor de n, que representa a quantidade da amostra, utilizando a seguinte fórmula:\n",
    "<br>\n",
    "$n = \\frac{Z^2*\\sigma^2}{d^2 + \\frac{Z^2*\\sigma^2}{N}} = \\frac{1.96^2*40.9^2}{105.35^2 + \\frac{1.96^2*40.9^2}{2107.01}} = 60$<br><br>\n",
    "Utilizando um $z = 1,96$, $d = 105.35$."
   ],
   "metadata": {}
  },
  {
   "cell_type": "markdown",
   "source": [
    "# Amostragem Aleatória Simples\n",
    "A amostragem aleatória simples consiste em selecionar de forma aleatória as amostras e aplicar as análises sobre a amostra coletada, no caso em questão temos um n = 60, logo, foi extraído uma amostra de 60 baseado na população dos dados utilizados."
   ],
   "metadata": {}
  },
  {
   "cell_type": "code",
   "execution_count": 40,
   "source": [
    "with open('dados2.csv', 'r') as arquivo:\n",
    "    ler = csv.reader(arquivo, delimiter=';')\n",
    "    populacao = [entrada for entrada in ler]\n",
    "\n"
   ],
   "outputs": [],
   "metadata": {}
  },
  {
   "cell_type": "code",
   "execution_count": 41,
   "source": [
    "#selecionando a amostra\n",
    "random.seed(30)\n",
    "amostra_aas = random.sample(populacao, 60)\n",
    "\n"
   ],
   "outputs": [],
   "metadata": {}
  },
  {
   "cell_type": "markdown",
   "source": [
    "A função random utilizada acima irá separar uma amostra sem reposição de tamanho n = 60"
   ],
   "metadata": {}
  },
  {
   "cell_type": "code",
   "execution_count": 42,
   "source": [
    "#adicionando os dados da amostra em um dicionário para verificar quantas quais e quantas mesoregiões fazem parte da amostra\n",
    "def cont_mesoreg(matriz_amostra):\n",
    "    mesoregioes_selec = [item[2] for item in matriz_amostra]\n",
    "    mesoreg = {\n",
    "        'Baixo Amazonas': mesoregioes_selec.count('Baixo Amazonas'),\n",
    "        'Marajo':mesoregioes_selec.count('Marajo'),\n",
    "        'Metropolitana de Belem': mesoregioes_selec.count('Metropolitana de Belem'),\n",
    "        'Nordeste Paraense': mesoregioes_selec.count('Nordeste Paraense'),\n",
    "        'Sudoeste Paraense': mesoregioes_selec.count('Sudoeste Paraense'),\n",
    "        'Sudeste Paraense': mesoregioes_selec.count('Sudeste Paraense'),\n",
    "    }\n",
    "    return mesoreg\n",
    "mesoreg_selec_aas = cont_mesoreg(amostra_aas)\n",
    "\n"
   ],
   "outputs": [],
   "metadata": {}
  },
  {
   "cell_type": "markdown",
   "source": [
    "Na amostragem aleatória simples obtivemos a seguinte tabela:\n",
    "\n",
    "<table>\n",
    "    <caption>Tabela 2: quantidade de municipios selecionados por mesoregião</caption>\n",
    "    <tr>\n",
    "        <th>Região</th>\n",
    "        <th>Quantidade</th>\n",
    "    </tr>\n",
    "    <tr>\n",
    "        <td>Baixo Amazonas</td>\n",
    "        <td>{{mesoreg_selec_aas['Baixo Amazonas']}}</td>\n",
    "    </tr>\n",
    "    <tr>\n",
    "        <td>Marajo</td>\n",
    "        <td>{{mesoreg_selec_aas['Marajo']}}</td>\n",
    "    </tr>\n",
    "    <tr>\n",
    "        <td>Metropolitana de Belem</td>\n",
    "        <td>{{mesoreg_selec_aas['Metropolitana de Belem']}}</td>\n",
    "    </tr>\n",
    "    <tr>\n",
    "        <td>Nordeste Paraense</td>\n",
    "        <td>{{mesoreg_selec_aas['Nordeste Paraense']}}</td>\n",
    "    </tr>\n",
    "    <tr>\n",
    "        <td>Sudoeste Paraense</td>\n",
    "        <td>{{mesoreg_selec_aas['Sudoeste Paraense']}}</td>\n",
    "    </tr>\n",
    "    <tr>\n",
    "        <td>Sudeste Paraense</td>\n",
    "        <td>{{mesoreg_selec_aas['Sudeste Paraense']}}</td>\n",
    "    </tr>\n",
    "</table>"
   ],
   "metadata": {
    "variables": {
     "mesoreg_selec_aas['Baixo Amazonas']": "7",
     "mesoreg_selec_aas['Marajo']": "4",
     "mesoreg_selec_aas['Metropolitana de Belem']": "8",
     "mesoreg_selec_aas['Nordeste Paraense']": "20",
     "mesoreg_selec_aas['Sudeste Paraense']": "16",
     "mesoreg_selec_aas['Sudoeste Paraense']": "5"
    }
   }
  },
  {
   "cell_type": "markdown",
   "source": [
    "Novamente é feita a utilização das funções criadas para gerar a ditribuição de frequências por classe"
   ],
   "metadata": {}
  },
  {
   "cell_type": "code",
   "execution_count": 43,
   "source": [
    "#coletando somente a lista de números da amostra juntamente as estatísticas básicas\n",
    "numeros_aas = list(map(lambda x:float(x), [item[1] for item in amostra_aas]))\n",
    "\n",
    "media_aas, variancia_aas, desv_padr_aas, cv_aas = estatisticas_basicas(numeros_aas)\n"
   ],
   "outputs": [],
   "metadata": {}
  },
  {
   "cell_type": "code",
   "execution_count": 44,
   "source": [
    "#utilizando a função criada para desenvolver o dicionario com as classes e suas respectivas frequencias e uma lista com os pontos médios\n",
    "classes_aas, ponto_medio_aas = listas_dict_classes(numeros_aas)\n",
    "\n"
   ],
   "outputs": [],
   "metadata": {}
  },
  {
   "cell_type": "code",
   "execution_count": 45,
   "source": [
    "print('Tabela 3: Distribuição de frequência por classes da população (AAS)')\n",
    "print(f'{\"Classes\":^13} | {\"Fi\":^4}')\n",
    "print(f'{\"-\"*14}|{\"-\"*5}')\n",
    "for i, j in classes_aas.items():\n",
    "    print(f'{i:^13} | {j:>4}')"
   ],
   "outputs": [
    {
     "output_type": "stream",
     "name": "stdout",
     "text": [
      "Tabela 3: Distribuição de frequência por classes da população (AAS)\n",
      "   Classes    |  Fi \n",
      "--------------|-----\n",
      " 0.0|---4.0   |    1\n",
      " 4.0|---8.0   |    8\n",
      " 8.0|---12.0  |   12\n",
      "12.0|---16.0  |   21\n",
      "16.0|---20.0  |   11\n",
      "20.0|---24.0  |    2\n",
      "24.0|---28.0  |    5\n",
      "28.0|---32.0  |    0\n"
     ]
    }
   ],
   "metadata": {}
  },
  {
   "cell_type": "markdown",
   "source": [
    "Na AAS, diferente da análise da população, foram obtidas somente 8 classes, com um h = 4."
   ],
   "metadata": {}
  },
  {
   "cell_type": "code",
   "execution_count": 46,
   "source": [
    "#plotagem do histograma\n",
    "plt.bar(ponto_medio_aas, [t for t in classes_aas.values()],4, color='green')\n",
    "plt.title('Figura 2: Histograma do número de Homicídios no estado do Pará')\n",
    "plt.xticks(ponto_medio_aas)\n",
    "plt.show()"
   ],
   "outputs": [
    {
     "output_type": "display_data",
     "data": {
      "image/png": "[encoded data removed]",
      "text/plain": [
       "<Figure size 432x288 with 1 Axes>"
      ]
     },
     "metadata": {}
    }
   ],
   "metadata": {}
  },
  {
   "cell_type": "markdown",
   "source": [
    "# Amostragem Sistemática\n",
    "Na amostragem sistemática a seleção da amostra é feita de forma ordenada, geralmente utilizando dados de forma ordenada, para esse caso de amostragem sistemática, foi necesário ordenar os dados em ordem crescente utilizando a coluna de taxa de homicídios, então o arquivo utilizado foi <b>dados2_ordenado.csv</b>."
   ],
   "metadata": {}
  },
  {
   "cell_type": "code",
   "execution_count": 47,
   "source": [
    "#utilizando o arquivo .csv com os dados ordenados da menor taxa de homicio para a maior taxa.\n",
    "with open('dados2_ordenado.csv', 'r') as arquivo:\n",
    "    ler = csv.reader(arquivo, delimiter =';')\n",
    "    populacao_ord = [item for item in ler]\n"
   ],
   "outputs": [],
   "metadata": {}
  },
  {
   "cell_type": "code",
   "execution_count": 64,
   "source": [
    "#calculando o valor de K para verificar a distancia dos intervalos e deciasão do inicio da selação atarvés do r\n",
    "k_as = round(len(populacao_ord)/n)\n",
    "r = random.randint(1,k_as)\n",
    "posicoes_amostras = [r]\n",
    "for posicao in range(1,n):\n",
    "    posicoes_amostras.append(r+posicao*k_as)\n"
   ],
   "outputs": [],
   "metadata": {}
  },
  {
   "cell_type": "markdown",
   "source": [
    "Dois valores precisam ser calculados para realizar a amostragem, são eles, K (intervalo do índice de cada amostra) e r que representa o índice inicial.\n",
    "Para chegar aos valores utilizamos as seguintes fórmulas:<br>\n",
    "$K = \\frac{N}{n} = \\frac{144}{60} = 2.4$<br>\n",
    "Como o valor de $K$ precisa ser inteiro, então arrendonda-se para $K = $ {{k_as}}.<br>\n",
    "o $r$ é um valor que deve ser selecionado baseado na seguinte regra, ele deve ser um número aleatório onde, $1\\leq r\\leq K$, logo, $1\\leq r \\leq$ {{k_as}}.\n",
    "<br>\n",
    "<h4>Código do bloco abaixo</h4>\n",
    "É utilizada a lista criada no bloco anterior, <b>posicoes_amostra</b>, para relacionar os índices e de uma lista com a outra, e armazenar somente os valores da amostra selecionada."
   ],
   "metadata": {
    "variables": {
     "k_as": "2"
    }
   }
  },
  {
   "cell_type": "code",
   "execution_count": 49,
   "source": [
    "amostra_as =[]\n",
    "for seletor in posicoes_amostras:\n",
    "    amostra_as.append(populacao_ord[seletor])\n"
   ],
   "outputs": [],
   "metadata": {}
  },
  {
   "cell_type": "code",
   "execution_count": 50,
   "source": [
    "mesoreg_select_as = cont_mesoreg(amostra_as)\n",
    "\n"
   ],
   "outputs": [],
   "metadata": {}
  },
  {
   "cell_type": "markdown",
   "source": [
    "Na amostragem sistemática obtivemos os seguintes municípios de cada mesoregião:\n",
    "<table>\n",
    "    <caption>Tabela 4: quantidade de municipios selecionados por mesoregião</caption>\n",
    "    <tr>\n",
    "        <th>Região</th>\n",
    "        <th>Quantidade</th>\n",
    "    </tr>\n",
    "    <tr>\n",
    "        <td>Baixo Amazonas</td>\n",
    "        <td>{{mesoreg_select_as['Baixo Amazonas']}}</td>\n",
    "    </tr>\n",
    "    <tr>\n",
    "        <td>Marajo</td>\n",
    "        <td>{{mesoreg_select_as['Marajo']}}</td>\n",
    "    </tr>\n",
    "    <tr>\n",
    "        <td>Metropolitana de Belem</td>\n",
    "        <td>{{mesoreg_select_as['Metropolitana de Belem']}}</td>\n",
    "    </tr>\n",
    "    <tr>\n",
    "        <td>Nordeste Paraense</td>\n",
    "        <td>{{mesoreg_select_as['Nordeste Paraense']}}</td>\n",
    "    </tr>\n",
    "    <tr>\n",
    "        <td>Sudoeste Paraense</td>\n",
    "        <td>{{mesoreg_select_as['Sudoeste Paraense']}}</td>\n",
    "    </tr>\n",
    "    <tr>\n",
    "        <td>Sudeste Paraense</td>\n",
    "        <td>{{mesoreg_select_as['Sudeste Paraense']}}</td>\n",
    "    </tr>\n",
    "</table>"
   ],
   "metadata": {
    "variables": {
     "mesoreg_select_as['Baixo Amazonas']": "3",
     "mesoreg_select_as['Marajo']": "7",
     "mesoreg_select_as['Metropolitana de Belem']": "5",
     "mesoreg_select_as['Nordeste Paraense']": "20",
     "mesoreg_select_as['Sudeste Paraense']": "16",
     "mesoreg_select_as['Sudoeste Paraense']": "9"
    }
   }
  },
  {
   "cell_type": "code",
   "execution_count": 51,
   "source": [
    "#separando os valores numericos da matriz\n",
    "numeros_as = list(map(lambda x:float(x),[item[1] for item in amostra_as]))\n",
    "media_as, variancia_as, desv_padr_as, cv_as = estatisticas_basicas(numeros_as)\\\n"
   ],
   "outputs": [],
   "metadata": {}
  },
  {
   "cell_type": "code",
   "execution_count": 52,
   "source": [
    "#criação do dicionário para armazenamento das classes e da lista de pontos médios\n",
    "classes_as, ponto_medio_as = listas_dict_classes(numeros_as)\n"
   ],
   "outputs": [],
   "metadata": {}
  },
  {
   "cell_type": "code",
   "execution_count": 53,
   "source": [
    "print('Tabela 5: Distribuição de frequência por classes da população (AS)')\n",
    "print(f'{\"Classes\":^13} | {\"Fi\":^4}')\n",
    "print(f'{\"-\"*14}|{\"-\"*5}')\n",
    "for i, j in classes_as.items():\n",
    "    print(f'{i:^13} | {j:>4}')"
   ],
   "outputs": [
    {
     "output_type": "stream",
     "name": "stdout",
     "text": [
      "Tabela 5: Distribuição de frequência por classes da população (AS)\n",
      "   Classes    |  Fi \n",
      "--------------|-----\n",
      " 0.0|---3.0   |    2\n",
      " 3.0|---6.0   |    4\n",
      " 6.0|---9.0   |    8\n",
      " 9.0|---12.0  |   10\n",
      "12.0|---15.0  |   13\n",
      "15.0|---18.0  |   14\n",
      "18.0|---21.0  |    9\n",
      "21.0|---24.0  |    0\n"
     ]
    }
   ],
   "metadata": {}
  },
  {
   "cell_type": "markdown",
   "source": [
    "Na amostragem sistemática foram geradas somente 8 classes, assim como na AAS, porém com um h = 3."
   ],
   "metadata": {}
  },
  {
   "cell_type": "code",
   "execution_count": 54,
   "source": [
    "#plotagem do histograma\n",
    "plt.bar(ponto_medio_as, [t for t in classes_as.values()],3, color='orange')\n",
    "plt.title('Figura 3: Histograma do número de Homicídios no estado do Pará')\n",
    "plt.xticks(ponto_medio_as)\n",
    "plt.show()"
   ],
   "outputs": [
    {
     "output_type": "display_data",
     "data": {
      "image/png": "[encoded data removed]",
      "text/plain": [
       "<Figure size 432x288 with 1 Axes>"
      ]
     },
     "metadata": {}
    }
   ],
   "metadata": {}
  },
  {
   "cell_type": "markdown",
   "source": [
    "# Amostragem Estratificada (AE)\n",
    "Na Amostragem estratificada, existem alguns estratos, onde as quantidades existentes em cada estrato é diferente, no caso em questão os estratos são as mesoregiões, que possuem quantidades diferentes de municípios, e a AE busca igualar de forma proporcional as amostras dentro de cada estrato."
   ],
   "metadata": {}
  },
  {
   "cell_type": "code",
   "execution_count": 55,
   "source": [
    "#saparação dos grupos em mesoregião (Baixo Amazonas, Marajo, Metropolitana de Belem, Nordeste Paraense, Sudoeste Paraense, Sudeste Paraense)\n",
    "def separar_blocos(matriz, nome_procurar, posicao):\n",
    "    lista = [item for item in matriz if nome_procurar in item]\n",
    "    return lista\n",
    "\n",
    "meso_ba = separar_blocos(populacao, 'Baixo Amazonas', 2)\n",
    "meso_m = separar_blocos(populacao, 'Marajo', 2)\n",
    "meso_mb = separar_blocos(populacao, 'Metropolitana de Belem', 2)\n",
    "meso_np = separar_blocos(populacao, 'Nordeste Paraense', 2)\n",
    "meso_sudo_pa = separar_blocos(populacao, 'Sudoeste Paraense', 2)\n",
    "meso_sudes_pa = separar_blocos(populacao, 'Sudeste Paraense', 2)\n"
   ],
   "outputs": [],
   "metadata": {}
  },
  {
   "cell_type": "markdown",
   "source": [
    "Como precisamos separar os estratos, foi criado 6 listas, onde cada uma representa uma mesoregião De cada lista será coletado de forma proporcional as amostras totalizando um n = 60."
   ],
   "metadata": {}
  },
  {
   "cell_type": "code",
   "execution_count": 56,
   "source": [
    "#extração de cada estrato para uma unica lista utilizando função\n",
    "def extrair(matriz):\n",
    "    lista_provisoria = random.sample(\n",
    "        matriz, round((len(matriz)/len(populacao)*n)))\n",
    "    return lista_provisoria\n",
    "\n",
    "\n",
    "amostra_ae = extrair(meso_ba) + extrair(meso_m) + extrair(meso_mb) + \\\n",
    "    extrair(meso_np) + extrair(meso_sudo_pa) + extrair(meso_sudes_pa)\n"
   ],
   "outputs": [],
   "metadata": {}
  },
  {
   "cell_type": "code",
   "execution_count": 57,
   "source": [
    "mesoreg_select_ae = cont_mesoreg(amostra_ae)\n"
   ],
   "outputs": [],
   "metadata": {}
  },
  {
   "cell_type": "markdown",
   "source": [
    "<table>\n",
    "    <caption>Tabela 6: Mesoregiões do estado do Pará</caption>\n",
    "    <tr>\n",
    "        <th>Mesoregiões</th>\n",
    "        <th>Nº de municípios por Mesoregião</th>\n",
    "        <th>Proporção em relação ao universo</th>\n",
    "        <th>Tamanho da amostra correspondente</th>\n",
    "    </tr>\n",
    "    <tr>\n",
    "        <td>Baixo Amazonas</td>\n",
    "        <td>{{len(meso_ba)}}</td>\n",
    "        <td>{{round(len(meso_ba)/len(numeros,),2)}}</td>\n",
    "        <td>{{round(round(len(meso_ba)/len(numeros,),2)*60)}}</td>\n",
    "    </tr>\n",
    "    <tr>\n",
    "        <td>Marajo</td>\n",
    "        <td>{{len(meso_m)}}</td>\n",
    "        <td>{{round(len(meso_m)/len(numeros,),2)}}</td>\n",
    "        <td>{{round(round(len(meso_m)/len(numeros,),2)*60)}}</td>\n",
    "    </tr>\n",
    "    <tr>\n",
    "        <td>Metropolitana de Belem</td>\n",
    "        <td>{{len(meso_mb)}}</td>\n",
    "        <td>{{round(len(meso_mb)/len(numeros,),2)}}</td>\n",
    "        <td>{{round(round(len(meso_mb)/len(numeros,),2)*60)}}</td>\n",
    "    </tr>\n",
    "    <tr>\n",
    "        <td>Nordeste Paraense</td>\n",
    "        <td>{{len(meso_np)}}</td>\n",
    "        <td>{{round(len(meso_np)/len(numeros,),2)}}</td>\n",
    "        <td>{{round(round(len(meso_np)/len(numeros,),2)*60)}}</td>\n",
    "    </tr>\n",
    "    <tr>\n",
    "        <td>Sudoeste Paraense</td>\n",
    "        <td>{{len(meso_sudo_pa)}}</td>\n",
    "        <td>{{round(len(meso_sudo_pa)/len(numeros,),2)}}</td>\n",
    "        <td>{{round(round(len(meso_sudo_pa)/len(numeros,),2)*60)}}</td>\n",
    "    </tr>\n",
    "    <tr>\n",
    "        <td>Sudeste Paraense</td>\n",
    "        <td>{{len(meso_sudes_pa)}}</td>\n",
    "        <td>{{round(len(meso_sudes_pa)/len(numeros,),2)}}</td>\n",
    "        <td>{{round(round(len(meso_sudes_pa)/len(numeros,),2)*60)}}</td>\n",
    "    </tr>\n",
    "</table>"
   ],
   "metadata": {
    "variables": {
     "len(meso_ba)": "15",
     "len(meso_m)": "16",
     "len(meso_mb)": "11",
     "len(meso_np)": "49",
     "len(meso_sudes_pa)": "39",
     "len(meso_sudo_pa)": "14",
     "round(len(meso_ba)/len(numeros,),2)": "0.1",
     "round(len(meso_m)/len(numeros,),2)": "0.11",
     "round(len(meso_mb)/len(numeros,),2)": "0.08",
     "round(len(meso_np)/len(numeros,),2)": "0.34",
     "round(len(meso_sudes_pa)/len(numeros,),2)": "0.27",
     "round(len(meso_sudo_pa)/len(numeros,),2)": "0.1",
     "round(round(len(meso_ba)/len(numeros,),2)*60)": "6",
     "round(round(len(meso_m)/len(numeros,),2)*60)": "7",
     "round(round(len(meso_mb)/len(numeros,),2)*60)": "5",
     "round(round(len(meso_np)/len(numeros,),2)*60)": "20",
     "round(round(len(meso_sudes_pa)/len(numeros,),2)*60)": "16",
     "round(round(len(meso_sudo_pa)/len(numeros,),2)*60)": "6"
    }
   }
  },
  {
   "cell_type": "code",
   "execution_count": 58,
   "source": [
    "#separar os valores numericos da amostra e descrevendo estatisticas basicas sobre a amostra\n",
    "numeros_ae = list(map(lambda x:float(x),[item[1] for item in amostra_ae]))\n",
    "media_ae, variancia_ae, desv_padr_ae, cv_ae = estatisticas_basicas(numeros_ae)\n",
    "\n",
    "\n"
   ],
   "outputs": [],
   "metadata": {}
  },
  {
   "cell_type": "code",
   "execution_count": 59,
   "source": [
    "#criação do dicionário para armazenamento das classes e da lista de pontos médios\n",
    "classes_ae, ponto_medio_ae = listas_dict_classes(numeros_ae)\n"
   ],
   "outputs": [],
   "metadata": {}
  },
  {
   "cell_type": "code",
   "execution_count": 60,
   "source": [
    "print('Tabela 7: Distribuição de frequência por classes da população (AS)')\n",
    "print(f'{\"Classes\":^13} | {\"Fi\":^4}')\n",
    "print(f'{\"-\"*14}|{\"-\"*5}')\n",
    "for i, j in classes_ae.items():\n",
    "    print(f'{i:^13} | {j:>4}')"
   ],
   "outputs": [
    {
     "output_type": "stream",
     "name": "stdout",
     "text": [
      "Tabela 7: Distribuição de frequência por classes da população (AS)\n",
      "   Classes    |  Fi \n",
      "--------------|-----\n",
      " 0.0|---4.0   |    3\n",
      " 4.0|---8.0   |    6\n",
      " 8.0|---12.0  |   15\n",
      "12.0|---16.0  |   19\n",
      "16.0|---20.0  |   11\n",
      "20.0|---24.0  |    2\n",
      "24.0|---28.0  |    3\n",
      "28.0|---32.0  |    1\n"
     ]
    }
   ],
   "metadata": {}
  },
  {
   "cell_type": "markdown",
   "source": [
    "Assim como nas outras técnicas, na AE foram formadas 8 classes com um h = 4."
   ],
   "metadata": {}
  },
  {
   "cell_type": "code",
   "execution_count": 61,
   "source": [
    "#plotagem do histograma\n",
    "plt.bar(ponto_medio_ae, [t for t in classes_ae.values()],4, color='purple')\n",
    "plt.title('Figura 4: Histograma do número de Homicídios no estado do Pará')\n",
    "plt.xticks(ponto_medio_ae)\n",
    "plt.yticks([0,2,4,6,8,10,12,14,16,18,20])\n",
    "plt.show()"
   ],
   "outputs": [
    {
     "output_type": "display_data",
     "data": {
      "image/png": "[encoded data removed]",
      "text/plain": [
       "<Figure size 432x288 with 1 Axes>"
      ]
     },
     "metadata": {}
    }
   ],
   "metadata": {}
  },
  {
   "cell_type": "code",
   "execution_count": 62,
   "source": [
    "fig, (x1, x2) = plt.subplots(1, 2, figsize=(18,9))\n",
    "fig2, (x3, x4) = plt.subplots(1, 2, figsize=(18,9))\n",
    "\n",
    "x1.bar(ponto_medio_p, [t for t in classes_p.values()], 3, color='#4B6BEA')\n",
    "x1.set(title = 'Histograma da taxa de homicídios no estado do Pará (População)',xlabel = 'Ponto médio Xi',xticks=ponto_medio_p, yticks=[0,3,6,9,12,15,18,21,24,27,30])\n",
    "#x1.xticks(ponto_medio_as)\n",
    "\n",
    "x2.bar(ponto_medio_aas, [t for t in classes_aas.values()],4, color='green')\n",
    "x2.set(title = 'Histograma da taxa de homicídios no estado do Pará (AAS)',xlabel = 'Ponto médio Xi', xticks=ponto_medio_aas, yticks=[0,3,6,9,12,15,18,21,24,27,30])\n",
    "#x2.xticks(ponto_medio_ae)\n",
    "#x2.yticks([0,3,6,9,12,15,18,21,24,27,30,33])\n",
    "\n",
    "x3.bar(ponto_medio_as, [t for t in classes_as.values()],3, color='orange')\n",
    "x3.set(title = 'Histograma da taxa de homicídios no estado do Pará (AS)',xlabel = 'Ponto médio Xi', xticks=ponto_medio_as, yticks=[0,3,6,9,12,15,18,21,24,27,30])\n",
    "\n",
    "x4.bar(ponto_medio_ae, [t for t in classes_ae.values()],4, color='purple')\n",
    "x4.set(title = 'Histograma da taxa de homicídios no estado do Pará (AE)',xlabel = 'Ponto médio Xi', xticks=ponto_medio_ae, yticks=[0,3,6,9,12,15,18,21,24,27,30])\n",
    "\n",
    "plt.show()"
   ],
   "outputs": [
    {
     "output_type": "display_data",
     "data": {
      "image/png": "[encoded data removed]",
      "text/plain": [
       "<Figure size 1296x648 with 2 Axes>"
      ]
     },
     "metadata": {}
    },
    {
     "output_type": "display_data",
     "data": {
      "image/png": "[encoded data removed]",
      "text/plain": [
       "<Figure size 1296x648 with 2 Axes>"
      ]
     },
     "metadata": {}
    }
   ],
   "metadata": {}
  },
  {
   "cell_type": "markdown",
   "source": [
    "<h4>Comparação das técnicas</h4>\n",
    "Após applicar as 3 técnicas, podemos analisar cada uma e comparar com as informações e o histograma gerado para cada uma. Primeiramente comparando a média, variância, desvio padrão e o coeficiente de variância da população com a amostragem aleatoria simples, obtemos uma diferença absoluta da média = {{round(abs(media_p - media_aas),2)}}, da vavariância  = {{round(abs(variancia_p - variancia_aas),2)}}, do desvio padrão = {{round(abs(desv_padr_p - desv_padr_aas),2)}} e do cv = {{round(abs(cv_p - cv_aas),2)}}. Fazendo a mesma comparação com a amostragem sistemática obtêm-se, uma diferença absoluta da média = {{round(abs(media_p - media_as),2)}}, da vavariância  = {{round(abs(variancia_p - variancia_as),2)}}, do desvio padrão = {{round(abs(desv_padr_p - desv_padr_as),2)}} e do cv = {{round(abs(cv_p - cv_as),2)}}. E com a amostragem estratificada foi obtido uma diferença absoluta da média = {{round(abs(media_p - media_ae),2)}}, da vavariância  = {{round(abs(variancia_p - variancia_ae),2)}}, do desvio padrão = {{round(abs(desv_padr_p - desv_padr_ae),2)}} e do cv = {{round(abs(cv_p - cv_ae),2)}}. Assim formando a Tabela 8:\n",
    "<br>\n",
    "<table>\n",
    "    <caption>Tabela 8: Diferença absoluta das estatísticas das técnicas versus população</caption>\n",
    "    <tr>\n",
    "        <th>Técnicas</th>\n",
    "        <th>Diferença Absouta Média</th>\n",
    "        <th>Diferença Absouta Variância</th>\n",
    "        <th>Diferença Absouta Desvio Padrão</th>\n",
    "        <th>Diferença Absouta Coeficiente de Variação</th>\n",
    "    </tr>\n",
    "    <tr>\n",
    "        <td>Amostragem Aleatória Simples</td>\n",
    "        <td>{{round(abs(media_p - media_aas),2)}}</td>\n",
    "        <td>{{round(abs(variancia_p - variancia_aas),2)}}</td>\n",
    "        <td>{{round(abs(desv_padr_p - desv_padr_aas),2)}}</td>\n",
    "        <td>{{round(abs(cv_p - cv_aas),2)}}</td>\n",
    "    </tr>\n",
    "    <tr>\n",
    "        <td>Amostragem Sistemática</td>\n",
    "        <td>{{round(abs(media_p - media_as),2)}}</td>\n",
    "        <td>{{round(abs(variancia_p - variancia_as),2)}}</td>\n",
    "        <td>{{round(abs(desv_padr_p - desv_padr_as),2)}}</td>\n",
    "        <td>{{round(abs(cv_p - cv_as),2)}}</td>\n",
    "    </tr>\n",
    "    <tr>\n",
    "        <td>Amostragem Estratificada</td>\n",
    "        <td>{{round(abs(media_p - media_ae),2)}}</td>\n",
    "        <td>{{round(abs(variancia_p - variancia_ae),2)}}</td>\n",
    "        <td>{{round(abs(desv_padr_p - desv_padr_ae),2)}}</td>\n",
    "        <td>{{round(abs(cv_p - cv_ae),2)}}</td>\n",
    "    </tr>\n",
    "</table>"
   ],
   "metadata": {
    "variables": {
     "round(abs(cv_p - cv_aas),2)": "0.05",
     "round(abs(cv_p - cv_ae),2)": "0.01",
     "round(abs(cv_p - cv_as),2)": "0.06",
     "round(abs(desv_padr_p - desv_padr_aas),2)": "0.79",
     "round(abs(desv_padr_p - desv_padr_ae),2)": "0.48",
     "round(abs(desv_padr_p - desv_padr_as),2)": "1.54",
     "round(abs(media_p - media_aas),2)": "0.43",
     "round(abs(media_p - media_ae),2)": "0.96",
     "round(abs(media_p - media_as),2)": "1.89",
     "round(abs(variancia_p - variancia_aas),2)": "9.46",
     "round(abs(variancia_p - variancia_ae),2)": "5.89",
     "round(abs(variancia_p - variancia_as),2)": "17.26"
    }
   }
  },
  {
   "cell_type": "markdown",
   "source": [
    "# Conclusão\n",
    "Levando em consideração a <b>Tabela 8</b> e as figuras dos histogramas gerados, para a população e para as técnicas em relação a taxa de homicídios no estado do Pará, é possível concluir que a Amostragem Estratificada possui as menores diferenças absolutas em comparação com a população, e o histograma com uma curva mais aproximada ao da população, tonando a amostra mais representativa à população, seguido da amostragem aleatória simples, que possui a segunda menor diferença absoluta das estatísticas. A amostragem sistemática foi a amostragem menos representativa para os dados, pois possui uma diferença abosluta para variancia alta e um historama que não se assemelha ao da população."
   ],
   "metadata": {}
  }
 ],
 "metadata": {
  "interpreter": {
   "hash": "9619fbaae1e878f46ed7802714bb431ae3465b87f21f7a7a30856da22d0961b1"
  },
  "kernelspec": {
   "name": "python3",
   "display_name": "Python 3.7.0 64-bit"
  },
  "language_info": {
   "codemirror_mode": {
    "name": "ipython",
    "version": 3
   },
   "file_extension": ".py",
   "mimetype": "text/x-python",
   "name": "python",
   "nbconvert_exporter": "python",
   "pygments_lexer": "ipython3",
   "version": "3.7.0"
  }
 },
 "nbformat": 4,
 "nbformat_minor": 2
}