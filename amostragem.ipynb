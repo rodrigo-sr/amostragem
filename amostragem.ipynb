{
 "cells": [
  {
   "cell_type": "markdown",
   "metadata": {},
   "source": [
    "# Técnicas de Amostragem\n",
    "<h3> Ojetivo:</h3>\n",
    "Este relatório tem como objetivo, a análise de dados sobre a taxa de homicídio no estado do Pará, possuindo divisões de mesoregiões e municípios do estado. Além disso, realizar comparações de três técnicas de amostragens mais comuns, sendo elas:\n",
    "<ul>\n",
    "    <li><b>Amostragem Aleatória Simples (AAS)</b></li>\n",
    "    <li><b>Amostragem Sistemática (AS)</b></li>\n",
    "    <li><b>Amostragem Estratificada (AE)</b></li>\n",
    "</ul>\n",
    "Sendo assim, realizado a análise utilizando os três tipos de técnicas, e comparando entre elas, qual tem maior representatividade com relação aos dados da população.\n",
    "<br>\n",
    "<h3>Métodos:</h3>\n",
    "Para realização da análise foi utilizado as três técnicas mais comuns de amostragem, uma base de dados com informações sobre a taxa de mortalidade de 144 muncípios do estado do Pará no ano de 2019(FAPESPA), para fazer o processamento e extração de informação dos dados, foi utilizado a linguagem de programação Python incluindo algumas bibliotecas/módulos para realizar o processamento, sendo:\n",
    "<ul>\n",
    "    <li><b>csv:</b> utilizada para fazer leitura de arquivos csv</li>    \n",
    "    <li><b>math:</b> biblioteca para utilização de algumas funções matemáticas</li>    \n",
    "    <li><b>matplotlib:</b> biblioteca com uma variedade extensa de opções para plotar gráficos</li>\n",
    "    <li><b>functools(função reduce):</b> módulo utilizado para aplicar operações em itens de listas</li>\n",
    "    <li><b>random:</b> utilizada para fazer a seleção de forma aleatória dos dados</li>\n",
    "</ul>\n",
    "\n",
    "Além de bibliotecas da linguagem, foi utilizado o `Jupyter Notebook`, ferramenta muito utilizada na área de ciência de dados.\n"
   ]
  },
  {
   "cell_type": "code",
   "execution_count": 1,
   "metadata": {},
   "outputs": [],
   "source": [
    "#importação das bibliotecas/móduos a serem utilizados\n",
    "import csv\n",
    "import math\n",
    "import matplotlib.pyplot as plt\n",
    "from functools import reduce\n",
    "import random\n"
   ]
  },
  {
   "cell_type": "markdown",
   "metadata": {},
   "source": [
    "# Resultados:\n",
    "O primeiro arquivo de dados utilizado foi o `dados2.csv`, contendo respectivamente as variáveis município, taxa de homicídio e mesoregião pertencente."
   ]
  },
  {
   "cell_type": "code",
   "execution_count": 2,
   "metadata": {},
   "outputs": [],
   "source": [
    "with open('dados2.csv', 'r') as dados:\n",
    "    leitura = csv.reader(dados, delimiter=';')\n",
    "    matriz_dados = [i for i in leitura]\n",
    "\n"
   ]
  },
  {
   "cell_type": "markdown",
   "metadata": {},
   "source": [
    "No primeiro momento foi realizada a análise dos dados da população, para que desta forma, seja possível fazer a comparação com as técnicas de Amostragem Aleatória Simples, Amostragem Sistemática e Amostragem Estratificada.\n",
    "<h4>Codigo do bloco a seguir:</h4>\n",
    "Os valores numéricos foram armazendos em um vetor denominado `numeros`; em seguida existe uma função que realiza o cáculo da média, variância, desvio padrão e o coeficiente de variação; e na última linha do bloco os valores dessas estatísticas populacionais foram armazenadas nas variáveis <b>media_p</b>, <b>variancia_p</b>, <b>desv_padr_p</b>, <b>cv_p</b>.\n",
    "<br>\n",
    "<h4>Fórmulas uilizadas:</h4>\n",
    "<b>$\\overline{X}$</b> = $(x_1+x_2+...+x_n)\\over N$<br>\n",
    "<b>$\\sigma^2$</b> = $\\sum(x_i-\\overline{X})^2\\over n$ <br>\n",
    "<b>$\\sigma$</b> = $\\sqrt{\\sigma^2}$<br>\n",
    "<b>$CV$</b> = $S\\over \\overline{X}$"
   ]
  },
  {
   "cell_type": "code",
   "execution_count": 3,
   "metadata": {},
   "outputs": [],
   "source": [
    "#lista contendo os valores da taxa de mortalidade\n",
    "numeros = list(map(lambda x:float(x), [valor[1] for valor in matriz_dados]))\n",
    "\n",
    "#estatistica básicas\n",
    "def estatisticas_basicas(matriz_numeros):\n",
    "    media = reduce(lambda x, y: x+y, matriz_numeros)/len(matriz_numeros)\n",
    "    variancia = reduce(lambda x, y: x+(y-media)**2, matriz_numeros, 0)/len(matriz_numeros)\n",
    "    desv_padr = math.sqrt(variancia)\n",
    "    cv = desv_padr/media\n",
    "    return media, variancia, desv_padr, cv\n",
    "\n",
    "media_p, variancia_p, desv_padr_p, cv_p = estatisticas_basicas(numeros)\n"
   ]
  },
  {
   "cell_type": "markdown",
   "metadata": {},
   "source": [
    "Realizando a distribuição de frequencia por classes para futuramente plotar um histograma, necessitamos de alguns valores como at ou AT que representa a amplitude total da distribuição, k que é o número de classes e h que representa a amplitude de cada classe, onde:\n",
    "<ul>\n",
    "    <li><b>$AT$</b> = $X_(min)-X_(max)$ </li><br>\n",
    "    <li><b>$k$</b> = $\\sqrt{n}$</li><br>\n",
    "    <li><b>$h$</b> = $AT\\over k$</li><br>\n",
    "</ul>"
   ]
  },
  {
   "cell_type": "code",
   "execution_count": 4,
   "metadata": {},
   "outputs": [],
   "source": [
    "#criação de funções para calcular valores para classes como amplitude total, numero de classes = k e amplitude da classe = h\n",
    "#Juntamente a uma função para separar um dicionário para armazenar as classes e amplitudes com suas respectivas frequencias,\n",
    "#Uma lista contendo as amplitudes de classe, e uma lista com os pontos médios de cada classe\n",
    "\n",
    "def valores_dist_classe(matriz_numeros):\n",
    "    at = max(matriz_numeros) - min(matriz_numeros)\n",
    "    k = int(round(math.sqrt(len(matriz_numeros))))\n",
    "    h = math.ceil(at/k)\n",
    "    return k, h\n",
    "\n",
    "\n",
    "def listas_dict_classes(matriz_numeros):\n",
    "    classes = {}\n",
    "    amplitudes = []\n",
    "    ponto_medio = []\n",
    "    k, h = valores_dist_classe(matriz_numeros)\n",
    "    for i in range(k):\n",
    "        if len(amplitudes) == 0:\n",
    "            amplitudes.append(min(matriz_numeros))\n",
    "        else:\n",
    "            amplitudes.append(amplitudes[i-1]+h)\n",
    "\n",
    "    for i in range(len(amplitudes)):\n",
    "        if i < k-1:\n",
    "            classes[f'{amplitudes[i]}|---{amplitudes[i+1]}'] = len(\n",
    "                [x for x in matriz_numeros if x >= amplitudes[i] and x < amplitudes[i+1]])\n",
    "            ponto_medio.append((amplitudes[i]+amplitudes[i+1])/2)\n",
    "        else:\n",
    "            classes[f'{amplitudes[i]}|---{amplitudes[i]+h}'] = len(\n",
    "                [x for x in matriz_numeros if x >= amplitudes[i] and x < amplitudes[i]+h])\n",
    "            ponto_medio.append(((amplitudes[i]+(amplitudes[i]+h))/2))\n",
    "    \n",
    "    return classes,  ponto_medio\n",
    "\n",
    "classes_p, ponto_medio_p = listas_dict_classes(numeros)\n"
   ]
  },
  {
   "cell_type": "markdown",
   "metadata": {},
   "source": [
    "<table>\n",
    "    <tr>\n",
    "        <th>Classes</th>\n",
    "        <th>$F_i$</th>\n",
    "    </tr>\n",
    "    <tr>\n",
    "        <th>{{}}</th>\n",
    "        <th>{{}}</th>\n",
    "    </tr>\n",
    "    <tr>\n",
    "        <th>{{}}</th>\n",
    "        <th>{{}}</th>\n",
    "    </tr>\n",
    "</table>\n"
   ]
  },
  {
   "cell_type": "code",
   "execution_count": 5,
   "metadata": {
    "scrolled": true
   },
   "outputs": [
    {
     "name": "stdout",
     "output_type": "stream",
     "text": [
      "   Classes    |  Fi \n",
      "--------------|-----\n",
      " 0.0|---3.0   |    5\n",
      " 3.0|---6.0   |    7\n",
      " 6.0|---9.0   |   16\n",
      " 9.0|---12.0  |   21\n",
      "12.0|---15.0  |   26\n",
      "15.0|---18.0  |   27\n",
      "18.0|---21.0  |   21\n",
      "21.0|---24.0  |    4\n",
      "24.0|---27.0  |   13\n",
      "27.0|---30.0  |    3\n",
      "30.0|---33.0  |    1\n",
      "33.0|---36.0  |    0\n"
     ]
    }
   ],
   "source": [
    "print(f'{\"Classes\":^13} | {\"Fi\":^4}')\n",
    "print(f'{\"-\"*14}|{\"-\"*5}')\n",
    "for i, j in classes_p.items():\n",
    "    print(f'{i:^13} | {j:>4}')\n"
   ]
  },
  {
   "cell_type": "code",
   "execution_count": 6,
   "metadata": {},
   "outputs": [
    {
     "data": {
      "image/png": "[encoded data removed]",
      "text/plain": [
       "<Figure size 432x288 with 1 Axes>"
      ]
     },
     "metadata": {
      "needs_background": "light"
     },
     "output_type": "display_data"
    }
   ],
   "source": [
    "#plotagem do histograma\n",
    "plt.bar(ponto_medio_p, [t for t in classes_p.values()], 3, color='#4B6BEA')\n",
    "plt.title('Histograma do número de Homicídios no estado do Pará')\n",
    "plt.xticks(ponto_medio_p)\n",
    "plt.show()\n"
   ]
  },
  {
   "cell_type": "code",
   "execution_count": 7,
   "metadata": {},
   "outputs": [],
   "source": [
    "#calcular o a quantidade da amostra \"n\"\n",
    "n = (math.pow(1.96, 2)*math.pow(variancia_p, 2))/(sum(numeros) *\n",
    "                                                0.05+math.pow(1.96, 2)*math.pow(variancia_p, 2)/sum(numeros))\n",
    "n = math.ceil(n)\n",
    "\n"
   ]
  },
  {
   "cell_type": "markdown",
   "metadata": {},
   "source": [
    "# Amostragem Aleatória Simples"
   ]
  },
  {
   "cell_type": "code",
   "execution_count": 8,
   "metadata": {},
   "outputs": [],
   "source": [
    "with open('dados2.csv', 'r') as arquivo:\n",
    "    ler = csv.reader(arquivo, delimiter=';')\n",
    "    populacao = [entrada for entrada in ler]\n",
    "\n"
   ]
  },
  {
   "cell_type": "code",
   "execution_count": 9,
   "metadata": {},
   "outputs": [],
   "source": [
    "#selecionando a amostra\n",
    "random.seed(30)\n",
    "amostra_aas = random.sample(populacao, 60)\n",
    "\n"
   ]
  },
  {
   "cell_type": "code",
   "execution_count": 10,
   "metadata": {},
   "outputs": [],
   "source": [
    "#adicionando os dados da amostra em um dicionário para verificar quantas quais e quantas mesoregiões fazem parte da amostra\n",
    "def cont_mesoreg(matriz_amostra):\n",
    "    mesoregioes_selec = [item[2] for item in matriz_amostra]\n",
    "    mesoreg = {\n",
    "        'Baixo Amazonas': mesoregioes_selec.count('Baixo Amazonas'),\n",
    "        'Marajo':mesoregioes_selec.count('Marajo'),\n",
    "        'Metropolitana de Belem': mesoregioes_selec.count('Metropolitana de Belem'),\n",
    "        'Nordeste Paraense': mesoregioes_selec.count('Nordeste Paraense'),\n",
    "        'Sudoeste Paraense': mesoregioes_selec.count('Sudoeste Paraense'),\n",
    "        'Sudeste Paraense': mesoregioes_selec.count('Sudeste Paraense'),\n",
    "    }\n",
    "    return mesoreg\n",
    "mesoreg_selec_aas = cont_mesoreg(amostra_aas)\n",
    "\n"
   ]
  },
  {
   "cell_type": "code",
   "execution_count": 11,
   "metadata": {},
   "outputs": [],
   "source": [
    "#coletando somente a lista de números da amostra juntamente as estatísticas básicas\n",
    "numeros_aas = list(map(lambda x:float(x), [item[1] for item in amostra_aas]))\n",
    "\n",
    "media_aas, variancia_aas, desv_padr_aas, cv_aas = estatisticas_basicas(numeros_aas)\n"
   ]
  },
  {
   "cell_type": "code",
   "execution_count": 12,
   "metadata": {},
   "outputs": [],
   "source": [
    "#utilizando a função criada para desenvolver o dicionario com as classes e suas respectivas frequencias e uma lista com os pontos médios\n",
    "classes_aas, ponto_medio_aas = listas_dict_classes(numeros_aas)\n",
    "\n"
   ]
  },
  {
   "cell_type": "code",
   "execution_count": 13,
   "metadata": {},
   "outputs": [
    {
     "name": "stdout",
     "output_type": "stream",
     "text": [
      "   Classes    |  Fi \n",
      "--------------|-----\n",
      " 0.0|---4.0   |    1\n",
      " 4.0|---8.0   |    8\n",
      " 8.0|---12.0  |   12\n",
      "12.0|---16.0  |   21\n",
      "16.0|---20.0  |   11\n",
      "20.0|---24.0  |    2\n",
      "24.0|---28.0  |    5\n",
      "28.0|---32.0  |    0\n"
     ]
    }
   ],
   "source": [
    "print(f'{\"Classes\":^13} | {\"Fi\":^4}')\n",
    "print(f'{\"-\"*14}|{\"-\"*5}')\n",
    "for i, j in classes_aas.items():\n",
    "    print(f'{i:^13} | {j:>4}')"
   ]
  },
  {
   "cell_type": "code",
   "execution_count": 14,
   "metadata": {},
   "outputs": [
    {
     "data": {
      "image/png": "[encoded data removed]",
      "text/plain": [
       "<Figure size 432x288 with 1 Axes>"
      ]
     },
     "metadata": {
      "needs_background": "light"
     },
     "output_type": "display_data"
    }
   ],
   "source": [
    "#plotagem do histograma\n",
    "plt.bar(ponto_medio_aas, [t for t in classes_aas.values()],4, color='green')\n",
    "plt.title('Histograma do número de Homicídios no estado do Pará')\n",
    "plt.xticks(ponto_medio_aas)\n",
    "plt.show()"
   ]
  },
  {
   "cell_type": "markdown",
   "metadata": {},
   "source": [
    "# Amostragem Sistemática\n"
   ]
  },
  {
   "cell_type": "code",
   "execution_count": 15,
   "metadata": {},
   "outputs": [],
   "source": [
    "#utilizando o arquivo .csv com os dados ordenados da menor taxa de homicio para a maior taxa.\n",
    "with open('dados2_ordenado.csv', 'r') as arquivo:\n",
    "    ler = csv.reader(arquivo, delimiter =';')\n",
    "    populacao_ord = [item for item in ler]\n"
   ]
  },
  {
   "cell_type": "code",
   "execution_count": 16,
   "metadata": {},
   "outputs": [],
   "source": [
    "#calculando o valor de K para verificar a distancia dos intervalos e deciasão do inicio da selação atarvés do r\n",
    "k_as = round(len(populacao_ord)/n)\n",
    "r = random.randint(1,k_as)\n",
    "posicoes_amostras = [r]\n",
    "for posicao in range(1,n):\n",
    "    posicoes_amostras.append(r+posicao*k_as)\n"
   ]
  },
  {
   "cell_type": "code",
   "execution_count": 17,
   "metadata": {},
   "outputs": [],
   "source": [
    "amostra_as =[]\n",
    "for seletor in posicoes_amostras:\n",
    "    amostra_as.append(populacao_ord[seletor])\n"
   ]
  },
  {
   "cell_type": "code",
   "execution_count": 18,
   "metadata": {},
   "outputs": [],
   "source": [
    "mesoreg_select_as = cont_mesoreg(amostra_as)\n",
    "\n"
   ]
  },
  {
   "cell_type": "code",
   "execution_count": 19,
   "metadata": {},
   "outputs": [],
   "source": [
    "#separando os valores numericos da matriz\n",
    "numeros_as = list(map(lambda x:float(x),[item[1] for item in amostra_as]))\n",
    "media_as, variancia_as, desv_padr_as, cv_as = estatisticas_basicas(numeros_as)\n"
   ]
  },
  {
   "cell_type": "code",
   "execution_count": 20,
   "metadata": {},
   "outputs": [],
   "source": [
    "#criação do dicionário para armazenamento das classes e da lista de pontos médios\n",
    "classes_as, ponto_medio_as = listas_dict_classes(numeros_as)\n"
   ]
  },
  {
   "cell_type": "code",
   "execution_count": 21,
   "metadata": {},
   "outputs": [
    {
     "name": "stdout",
     "output_type": "stream",
     "text": [
      "   Classes    |  Fi \n",
      "--------------|-----\n",
      " 0.0|---3.0   |    2\n",
      " 3.0|---6.0   |    4\n",
      " 6.0|---9.0   |    8\n",
      " 9.0|---12.0  |   10\n",
      "12.0|---15.0  |   13\n",
      "15.0|---18.0  |   14\n",
      "18.0|---21.0  |    9\n",
      "21.0|---24.0  |    0\n"
     ]
    }
   ],
   "source": [
    "print(f'{\"Classes\":^13} | {\"Fi\":^4}')\n",
    "print(f'{\"-\"*14}|{\"-\"*5}')\n",
    "for i, j in classes_as.items():\n",
    "    print(f'{i:^13} | {j:>4}')"
   ]
  },
  {
   "cell_type": "code",
   "execution_count": 22,
   "metadata": {},
   "outputs": [
    {
     "data": {
      "image/png": "[encoded data removed]",
      "text/plain": [
       "<Figure size 432x288 with 1 Axes>"
      ]
     },
     "metadata": {
      "needs_background": "light"
     },
     "output_type": "display_data"
    }
   ],
   "source": [
    "#plotagem do histograma\n",
    "plt.bar(ponto_medio_as, [t for t in classes_as.values()],3, color='orange')\n",
    "plt.title('Histograma do número de Homicídios no estado do Pará')\n",
    "plt.xticks(ponto_medio_as)\n",
    "plt.show()"
   ]
  },
  {
   "cell_type": "markdown",
   "metadata": {},
   "source": [
    "# Amostragem Estratificada"
   ]
  },
  {
   "cell_type": "code",
   "execution_count": 23,
   "metadata": {},
   "outputs": [],
   "source": [
    "#saparação dos grupos em mesoregião (Baixo Amazonas, Marajo, Metropolitana de Belem, Nordeste Paraense, Sudoeste Paraense, Sudeste Paraense)\n",
    "def separar_blocos(matriz, nome_procurar, posicao):\n",
    "    lista = [item for item in matriz if nome_procurar in item]\n",
    "    return lista\n",
    "\n",
    "meso_ba = separar_blocos(populacao, 'Baixo Amazonas', 2)\n",
    "meso_m = separar_blocos(populacao, 'Marajo', 2)\n",
    "meso_mb = separar_blocos(populacao, 'Metropolitana de Belem', 2)\n",
    "meso_np = separar_blocos(populacao, 'Nordeste Paraense', 2)\n",
    "meso_sudo_pa = separar_blocos(populacao, 'Sudoeste Paraense', 2)\n",
    "meso_sudes_pa = separar_blocos(populacao, 'Sudeste Paraense', 2)\n"
   ]
  },
  {
   "cell_type": "code",
   "execution_count": 24,
   "metadata": {},
   "outputs": [],
   "source": [
    "#extração de cada estrato para uma unica lista utilizando função\n",
    "def extrair(matriz):\n",
    "    lista_provisoria = random.sample(\n",
    "        matriz, round((len(matriz)/len(populacao)*n)))\n",
    "    return lista_provisoria\n",
    "\n",
    "\n",
    "amostra_ae = extrair(meso_ba) + extrair(meso_m) + extrair(meso_mb) + \\\n",
    "    extrair(meso_np) + extrair(meso_sudo_pa) + extrair(meso_sudes_pa)\n"
   ]
  },
  {
   "cell_type": "code",
   "execution_count": 25,
   "metadata": {},
   "outputs": [],
   "source": [
    "mesoreg_select_ae = cont_mesoreg(amostra_ae)\n"
   ]
  },
  {
   "cell_type": "code",
   "execution_count": 26,
   "metadata": {},
   "outputs": [],
   "source": [
    "#separar os valores numericos da amostra e descrevendo estatisticas basicas sobre a amostra\n",
    "numeros_ae = list(map(lambda x:float(x),[item[1] for item in amostra_ae]))\n",
    "media_ae, variancia_ae, desv_padr_ae, cv_ae = estatisticas_basicas(numeros_ae)\n",
    "\n",
    "\n"
   ]
  },
  {
   "cell_type": "code",
   "execution_count": 27,
   "metadata": {},
   "outputs": [],
   "source": [
    "#criação do dicionário para armazenamento das classes e da lista de pontos médios\n",
    "classes_ae, ponto_medio_ae = listas_dict_classes(numeros_ae)\n"
   ]
  },
  {
   "cell_type": "code",
   "execution_count": 28,
   "metadata": {},
   "outputs": [
    {
     "name": "stdout",
     "output_type": "stream",
     "text": [
      "   Classes    |  Fi \n",
      "--------------|-----\n",
      " 0.0|---4.0   |    3\n",
      " 4.0|---8.0   |    6\n",
      " 8.0|---12.0  |   15\n",
      "12.0|---16.0  |   19\n",
      "16.0|---20.0  |   11\n",
      "20.0|---24.0  |    2\n",
      "24.0|---28.0  |    3\n",
      "28.0|---32.0  |    1\n"
     ]
    }
   ],
   "source": [
    "print(f'{\"Classes\":^13} | {\"Fi\":^4}')\n",
    "print(f'{\"-\"*14}|{\"-\"*5}')\n",
    "for i, j in classes_ae.items():\n",
    "    print(f'{i:^13} | {j:>4}')"
   ]
  },
  {
   "cell_type": "code",
   "execution_count": 29,
   "metadata": {},
   "outputs": [
    {
     "data": {
      "image/png": "[encoded data removed]",
      "text/plain": [
       "<Figure size 432x288 with 1 Axes>"
      ]
     },
     "metadata": {
      "needs_background": "light"
     },
     "output_type": "display_data"
    }
   ],
   "source": [
    "#plotagem do histograma\n",
    "plt.bar(ponto_medio_ae, [t for t in classes_ae.values()],4, color='purple')\n",
    "plt.title('Histograma do número de Homicídios no estado do Pará')\n",
    "plt.xticks(ponto_medio_ae)\n",
    "plt.yticks([0,2,4,6,8,10,12,14,16,18,20])\n",
    "plt.show()"
   ]
  },
  {
   "cell_type": "markdown",
   "metadata": {
    "variables": {
     "n": "60"
    }
   },
   "source": [
    "a is {{n}}"
   ]
  },
  {
   "cell_type": "code",
   "execution_count": 30,
   "metadata": {},
   "outputs": [],
   "source": [
    "plt.style.use(\"ggplot\")"
   ]
  },
  {
   "cell_type": "code",
   "execution_count": 31,
   "metadata": {},
   "outputs": [
    {
     "data": {
      "image/png": "[encoded data removed]",
      "text/plain": [
       "<Figure size 1296x648 with 2 Axes>"
      ]
     },
     "metadata": {},
     "output_type": "display_data"
    },
    {
     "data": {
      "image/png": "[encoded data removed]",
      "text/plain": [
       "<Figure size 1296x648 with 2 Axes>"
      ]
     },
     "metadata": {},
     "output_type": "display_data"
    }
   ],
   "source": [
    "fig, (x1, x2) = plt.subplots(1, 2, figsize=(18,9))\n",
    "fig2, (x3, x4) = plt.subplots(1, 2, figsize=(18,9))\n",
    "\n",
    "x1.bar(ponto_medio_p, [t for t in classes_p.values()], 3, color='#4B6BEA')\n",
    "x1.set(title = 'Histograma da taxa de homicídios no estado do Pará (População)',xlabel = 'Ponto médio Xi',xticks=ponto_medio_p, yticks=[0,3,6,9,12,15,18,21,24,27,30])\n",
    "#x1.xticks(ponto_medio_as)\n",
    "\n",
    "x2.bar(ponto_medio_aas, [t for t in classes_aas.values()],4, color='green')\n",
    "x2.set(title = 'Histograma da taxa de homicídios no estado do Pará (AAS)',xlabel = 'Ponto médio Xi', xticks=ponto_medio_aas, yticks=[0,3,6,9,12,15,18,21,24,27,30])\n",
    "#x2.xticks(ponto_medio_ae)\n",
    "#x2.yticks([0,3,6,9,12,15,18,21,24,27,30,33])\n",
    "\n",
    "x3.bar(ponto_medio_as, [t for t in classes_as.values()],3, color='orange')\n",
    "x3.set(title = 'Histograma da taxa de homicídios no estado do Pará (AS)',xlabel = 'Ponto médio Xi', xticks=ponto_medio_as, yticks=[0,3,6,9,12,15,18,21,24,27,30])\n",
    "\n",
    "x4.bar(ponto_medio_ae, [t for t in classes_ae.values()],4, color='purple')\n",
    "x4.set(title = 'Histograma da taxa de homicídios no estado do Pará (AE)',xlabel = 'Ponto médio Xi', xticks=ponto_medio_ae, yticks=[0,3,6,9,12,15,18,21,24,27,30])\n",
    "\n",
    "plt.show()"
   ]
  },
  {
   "cell_type": "code",
   "execution_count": null,
   "metadata": {},
   "outputs": [],
   "source": []
  }
 ],
 "metadata": {
  "interpreter": {
   "hash": "9619fbaae1e878f46ed7802714bb431ae3465b87f21f7a7a30856da22d0961b1"
  },
  "kernelspec": {
   "display_name": "Python 3 (ipykernel)",
   "language": "python",
   "name": "python3"
  },
  "language_info": {
   "codemirror_mode": {
    "name": "ipython",
    "version": 3
   },
   "file_extension": ".py",
   "mimetype": "text/x-python",
   "name": "python",
   "nbconvert_exporter": "python",
   "pygments_lexer": "ipython3",
   "version": "3.7.0"
  }
 },
 "nbformat": 4,
 "nbformat_minor": 2
}
